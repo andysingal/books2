{
 "cells": [
  {
   "cell_type": "code",
   "execution_count": 20,
   "id": "3c66f39a-b8ca-4365-9714-dd47a2f97bb3",
   "metadata": {},
   "outputs": [
    {
     "name": "stdout",
     "output_type": "stream",
     "text": [
      "Requirement already satisfied: umap-learn in /Users/ankush.singal/opt/anaconda3/lib/python3.9/site-packages (0.5.3)\n",
      "Requirement already satisfied: scipy>=1.0 in /Users/ankush.singal/opt/anaconda3/lib/python3.9/site-packages (from umap-learn) (1.8.1)\n",
      "Requirement already satisfied: numba>=0.49 in /Users/ankush.singal/opt/anaconda3/lib/python3.9/site-packages (from umap-learn) (0.55.1)\n",
      "Requirement already satisfied: tqdm in /Users/ankush.singal/opt/anaconda3/lib/python3.9/site-packages (from umap-learn) (4.64.0)\n",
      "Requirement already satisfied: numpy>=1.17 in /Users/ankush.singal/opt/anaconda3/lib/python3.9/site-packages (from umap-learn) (1.21.5)\n",
      "Requirement already satisfied: scikit-learn>=0.22 in /Users/ankush.singal/opt/anaconda3/lib/python3.9/site-packages (from umap-learn) (1.0.2)\n",
      "Requirement already satisfied: pynndescent>=0.5 in /Users/ankush.singal/opt/anaconda3/lib/python3.9/site-packages (from umap-learn) (0.5.7)\n",
      "Requirement already satisfied: llvmlite<0.39,>=0.38.0rc1 in /Users/ankush.singal/opt/anaconda3/lib/python3.9/site-packages (from numba>=0.49->umap-learn) (0.38.0)\n",
      "Requirement already satisfied: setuptools in /Users/ankush.singal/opt/anaconda3/lib/python3.9/site-packages (from numba>=0.49->umap-learn) (62.3.3)\n",
      "Requirement already satisfied: joblib>=0.11 in /Users/ankush.singal/opt/anaconda3/lib/python3.9/site-packages (from pynndescent>=0.5->umap-learn) (1.1.0)\n",
      "Requirement already satisfied: threadpoolctl>=2.0.0 in /Users/ankush.singal/opt/anaconda3/lib/python3.9/site-packages (from scikit-learn>=0.22->umap-learn) (2.2.0)\n"
     ]
    }
   ],
   "source": [
    "!pip install umap-learn"
   ]
  },
  {
   "cell_type": "code",
   "execution_count": 21,
   "id": "d0f91eff-915b-4dc4-b34d-3141e1ce5af3",
   "metadata": {},
   "outputs": [
    {
     "name": "stderr",
     "output_type": "stream",
     "text": [
      "[nltk_data] Downloading package stopwords to\n",
      "[nltk_data]     /Users/ankush.singal/nltk_data...\n",
      "[nltk_data]   Package stopwords is already up-to-date!\n"
     ]
    },
    {
     "data": {
      "text/plain": [
       "True"
      ]
     },
     "execution_count": 21,
     "metadata": {},
     "output_type": "execute_result"
    }
   ],
   "source": [
    "#General Libraries\n",
    "import pandas as pd\n",
    "import numpy as np\n",
    "\n",
    "# Machine Learning & Natural Language Processing\n",
    "import re\n",
    "\n",
    "from sklearn.model_selection import GridSearchCV\n",
    "from sklearn.model_selection import train_test_split, cross_val_predict\n",
    "\n",
    "from sklearn.pipeline import Pipeline\n",
    "from sklearn.metrics import accuracy_score, classification_report, confusion_matrix\n",
    "\n",
    "from nltk.corpus import stopwords\n",
    "import nltk\n",
    "\n",
    "from sklearn.feature_extraction.text import TfidfVectorizer\n",
    "from sklearn.ensemble import RandomForestClassifier\n",
    "\n",
    "from sklearn.decomposition import TruncatedSVD \n",
    "\n",
    "import umap\n",
    "\n",
    "## Visualization\n",
    "from wordcloud import WordCloud\n",
    "import matplotlib.pyplot as plt\n",
    "import seaborn as sns\n",
    "\n",
    "nltk.download('stopwords')"
   ]
  },
  {
   "cell_type": "code",
   "execution_count": 22,
   "id": "32e323d1-50af-43cc-8b9d-5b206737ecbe",
   "metadata": {},
   "outputs": [
    {
     "data": {
      "text/html": [
       "<div>\n",
       "<style scoped>\n",
       "    .dataframe tbody tr th:only-of-type {\n",
       "        vertical-align: middle;\n",
       "    }\n",
       "\n",
       "    .dataframe tbody tr th {\n",
       "        vertical-align: top;\n",
       "    }\n",
       "\n",
       "    .dataframe thead th {\n",
       "        text-align: right;\n",
       "    }\n",
       "</style>\n",
       "<table border=\"1\" class=\"dataframe\">\n",
       "  <thead>\n",
       "    <tr style=\"text-align: right;\">\n",
       "      <th></th>\n",
       "      <th>cluster</th>\n",
       "      <th>url</th>\n",
       "      <th>search_text</th>\n",
       "    </tr>\n",
       "  </thead>\n",
       "  <tbody>\n",
       "    <tr>\n",
       "      <th>0</th>\n",
       "      <td>2</td>\n",
       "      <td>https://docs.gcp.databricks.com/</td>\n",
       "      <td>delta lake and delta engine guide streaming io...</td>\n",
       "    </tr>\n",
       "    <tr>\n",
       "      <th>1</th>\n",
       "      <td>0</td>\n",
       "      <td>https://docs.gcp.databricks.com/_static/notebo...</td>\n",
       "      <td>10.5 ml</td>\n",
       "    </tr>\n",
       "    <tr>\n",
       "      <th>2</th>\n",
       "      <td>0</td>\n",
       "      <td>https://docs.gcp.databricks.com/administration...</td>\n",
       "      <td>no active google kubernetes engine cluster fou...</td>\n",
       "    </tr>\n",
       "    <tr>\n",
       "      <th>3</th>\n",
       "      <td>0</td>\n",
       "      <td>https://docs.gcp.databricks.com/administration...</td>\n",
       "      <td>premium dlt</td>\n",
       "    </tr>\n",
       "    <tr>\n",
       "      <th>4</th>\n",
       "      <td>3</td>\n",
       "      <td>https://docs.gcp.databricks.com/administration...</td>\n",
       "      <td>token management personal access token persona...</td>\n",
       "    </tr>\n",
       "  </tbody>\n",
       "</table>\n",
       "</div>"
      ],
      "text/plain": [
       "   cluster                                                url  \\\n",
       "0        2                   https://docs.gcp.databricks.com/   \n",
       "1        0  https://docs.gcp.databricks.com/_static/notebo...   \n",
       "2        0  https://docs.gcp.databricks.com/administration...   \n",
       "3        0  https://docs.gcp.databricks.com/administration...   \n",
       "4        3  https://docs.gcp.databricks.com/administration...   \n",
       "\n",
       "                                         search_text  \n",
       "0  delta lake and delta engine guide streaming io...  \n",
       "1                                            10.5 ml  \n",
       "2  no active google kubernetes engine cluster fou...  \n",
       "3                                        premium dlt  \n",
       "4  token management personal access token persona...  "
      ]
     },
     "execution_count": 22,
     "metadata": {},
     "output_type": "execute_result"
    }
   ],
   "source": [
    "df = pd.read_csv('databricks-class.csv')\n",
    "df.head()"
   ]
  },
  {
   "cell_type": "code",
   "execution_count": 23,
   "id": "96731881-6639-426a-9998-38d95d5eef5d",
   "metadata": {},
   "outputs": [
    {
     "name": "stdout",
     "output_type": "stream",
     "text": [
      "[CV 2/3] END rnf_clf__max_depth=10, rnf_clf__min_samples_leaf=1, rnf_clf__n_estimators=10, tfidf_vec__min_df=0.05, tsvd_red__n_components=50;, score=(train=nan, test=nan) total time=   0.0s\n",
      "[CV 1/3] END rnf_clf__max_depth=10, rnf_clf__min_samples_leaf=1, rnf_clf__n_estimators=100, tfidf_vec__min_df=0.05, tsvd_red__n_components=50;, score=(train=nan, test=nan) total time=   0.0s\n",
      "[CV 3/3] END rnf_clf__max_depth=10, rnf_clf__min_samples_leaf=1, rnf_clf__n_estimators=200, tfidf_vec__min_df=0.01, tsvd_red__n_components=50;, score=(train=1.000, test=0.957) total time=   1.2s\n",
      "[CV 2/3] END rnf_clf__max_depth=10, rnf_clf__min_samples_leaf=4, rnf_clf__n_estimators=200, tfidf_vec__min_df=0.01, tsvd_red__n_components=150;, score=(train=nan, test=nan) total time=   0.0s\n",
      "[CV 3/3] END rnf_clf__max_depth=10, rnf_clf__min_samples_leaf=4, rnf_clf__n_estimators=200, tfidf_vec__min_df=0.01, tsvd_red__n_components=150;, score=(train=nan, test=nan) total time=   0.0s\n",
      "[CV 3/3] END rnf_clf__max_depth=10, rnf_clf__min_samples_leaf=4, rnf_clf__n_estimators=200, tfidf_vec__min_df=0.05, tsvd_red__n_components=50;, score=(train=nan, test=nan) total time=   0.0s\n",
      "[CV 1/3] END rnf_clf__max_depth=10, rnf_clf__min_samples_leaf=10, rnf_clf__n_estimators=10, tfidf_vec__min_df=0.01, tsvd_red__n_components=150;, score=(train=nan, test=nan) total time=   0.0s\n",
      "[CV 2/3] END rnf_clf__max_depth=10, rnf_clf__min_samples_leaf=10, rnf_clf__n_estimators=10, tfidf_vec__min_df=0.01, tsvd_red__n_components=150;, score=(train=nan, test=nan) total time=   0.0s\n",
      "[CV 3/3] END rnf_clf__max_depth=10, rnf_clf__min_samples_leaf=10, rnf_clf__n_estimators=10, tfidf_vec__min_df=0.01, tsvd_red__n_components=150;, score=(train=nan, test=nan) total time=   0.0s\n",
      "[CV 1/3] END rnf_clf__max_depth=10, rnf_clf__min_samples_leaf=10, rnf_clf__n_estimators=10, tfidf_vec__min_df=0.05, tsvd_red__n_components=50;, score=(train=nan, test=nan) total time=   0.0s\n",
      "[CV 3/3] END rnf_clf__max_depth=10, rnf_clf__min_samples_leaf=10, rnf_clf__n_estimators=10, tfidf_vec__min_df=0.05, tsvd_red__n_components=50;, score=(train=nan, test=nan) total time=   0.0s\n",
      "[CV 3/3] END rnf_clf__max_depth=10, rnf_clf__min_samples_leaf=10, rnf_clf__n_estimators=10, tfidf_vec__min_df=0.05, tsvd_red__n_components=150;, score=(train=nan, test=nan) total time=   0.0s\n",
      "[CV 1/3] END rnf_clf__max_depth=10, rnf_clf__min_samples_leaf=10, rnf_clf__n_estimators=100, tfidf_vec__min_df=0.01, tsvd_red__n_components=150;, score=(train=nan, test=nan) total time=   0.1s\n",
      "[CV 3/3] END rnf_clf__max_depth=10, rnf_clf__min_samples_leaf=10, rnf_clf__n_estimators=100, tfidf_vec__min_df=0.05, tsvd_red__n_components=50;, score=(train=nan, test=nan) total time=   0.0s\n",
      "[CV 1/3] END rnf_clf__max_depth=10, rnf_clf__min_samples_leaf=10, rnf_clf__n_estimators=100, tfidf_vec__min_df=0.05, tsvd_red__n_components=150;, score=(train=nan, test=nan) total time=   0.1s\n",
      "[CV 3/3] END rnf_clf__max_depth=10, rnf_clf__min_samples_leaf=10, rnf_clf__n_estimators=100, tfidf_vec__min_df=0.05, tsvd_red__n_components=150;, score=(train=nan, test=nan) total time=   0.1s\n",
      "[CV 2/3] END rnf_clf__max_depth=10, rnf_clf__min_samples_leaf=10, rnf_clf__n_estimators=200, tfidf_vec__min_df=0.01, tsvd_red__n_components=50;, score=(train=0.964, test=0.909) total time=   1.2s\n",
      "[CV 3/3] END rnf_clf__max_depth=25, rnf_clf__min_samples_leaf=4, rnf_clf__n_estimators=10, tfidf_vec__min_df=0.01, tsvd_red__n_components=50;, score=(train=0.983, test=0.928) total time=   0.1s\n",
      "[CV 1/3] END rnf_clf__max_depth=25, rnf_clf__min_samples_leaf=4, rnf_clf__n_estimators=10, tfidf_vec__min_df=0.01, tsvd_red__n_components=150;, score=(train=nan, test=nan) total time=   0.0s\n",
      "[CV 1/3] END rnf_clf__max_depth=25, rnf_clf__min_samples_leaf=4, rnf_clf__n_estimators=100, tfidf_vec__min_df=0.01, tsvd_red__n_components=50;, score=(train=0.995, test=0.938) total time=   0.7s\n",
      "[CV 2/3] END rnf_clf__max_depth=25, rnf_clf__min_samples_leaf=4, rnf_clf__n_estimators=100, tfidf_vec__min_df=0.01, tsvd_red__n_components=50;, score=(train=0.983, test=0.947) total time=   0.4s\n",
      "[CV 1/3] END rnf_clf__max_depth=25, rnf_clf__min_samples_leaf=10, rnf_clf__n_estimators=200, tfidf_vec__min_df=0.01, tsvd_red__n_components=50;, score=(train=0.957, test=0.918) total time=   1.0s\n",
      "[CV 2/3] END rnf_clf__max_depth=25, rnf_clf__min_samples_leaf=10, rnf_clf__n_estimators=200, tfidf_vec__min_df=0.01, tsvd_red__n_components=50;, score=(train=0.964, test=0.909) total time=   1.0s\n",
      "[CV 1/3] END rnf_clf__max_depth=50, rnf_clf__min_samples_leaf=10, rnf_clf__n_estimators=10, tfidf_vec__min_df=0.05, tsvd_red__n_components=50;, score=(train=nan, test=nan) total time=   0.0s\n",
      "[CV 2/3] END rnf_clf__max_depth=50, rnf_clf__min_samples_leaf=10, rnf_clf__n_estimators=10, tfidf_vec__min_df=0.05, tsvd_red__n_components=50;, score=(train=nan, test=nan) total time=   0.0s\n",
      "[CV 2/3] END rnf_clf__max_depth=50, rnf_clf__min_samples_leaf=10, rnf_clf__n_estimators=10, tfidf_vec__min_df=0.05, tsvd_red__n_components=150;, score=(train=nan, test=nan) total time=   0.0s\n",
      "[CV 3/3] END rnf_clf__max_depth=50, rnf_clf__min_samples_leaf=10, rnf_clf__n_estimators=10, tfidf_vec__min_df=0.05, tsvd_red__n_components=150;, score=(train=nan, test=nan) total time=   0.0s\n",
      "[CV 3/3] END rnf_clf__max_depth=50, rnf_clf__min_samples_leaf=10, rnf_clf__n_estimators=100, tfidf_vec__min_df=0.01, tsvd_red__n_components=50;, score=(train=0.964, test=0.957) total time=   0.6s\n",
      "[CV 1/3] END rnf_clf__max_depth=50, rnf_clf__min_samples_leaf=10, rnf_clf__n_estimators=100, tfidf_vec__min_df=0.01, tsvd_red__n_components=150;, score=(train=nan, test=nan) total time=   0.0s\n",
      "[CV 2/3] END rnf_clf__max_depth=50, rnf_clf__min_samples_leaf=10, rnf_clf__n_estimators=200, tfidf_vec__min_df=0.01, tsvd_red__n_components=150;, score=(train=nan, test=nan) total time=   0.0s\n",
      "[CV 1/3] END rnf_clf__max_depth=50, rnf_clf__min_samples_leaf=10, rnf_clf__n_estimators=200, tfidf_vec__min_df=0.05, tsvd_red__n_components=50;, score=(train=nan, test=nan) total time=   0.0s\n",
      "[CV 1/3] END rnf_clf__max_depth=50, rnf_clf__min_samples_leaf=10, rnf_clf__n_estimators=200, tfidf_vec__min_df=0.05, tsvd_red__n_components=150;, score=(train=nan, test=nan) total time=   0.0s\n",
      "[CV 3/3] END rnf_clf__max_depth=50, rnf_clf__min_samples_leaf=10, rnf_clf__n_estimators=200, tfidf_vec__min_df=0.05, tsvd_red__n_components=150;, score=(train=nan, test=nan) total time=   0.0s\n",
      "[CV 2/3] END rnf_clf__max_depth=10, rnf_clf__min_samples_leaf=1, rnf_clf__n_estimators=10, tfidf_vec__min_df=0.01, tsvd_red__n_components=150;, score=(train=nan, test=nan) total time=   0.0s\n",
      "[CV 2/3] END rnf_clf__max_depth=10, rnf_clf__min_samples_leaf=1, rnf_clf__n_estimators=10, tfidf_vec__min_df=0.05, tsvd_red__n_components=150;, score=(train=nan, test=nan) total time=   0.0s\n",
      "[CV 2/3] END rnf_clf__max_depth=10, rnf_clf__min_samples_leaf=1, rnf_clf__n_estimators=100, tfidf_vec__min_df=0.01, tsvd_red__n_components=50;, score=(train=1.000, test=0.957) total time=   0.4s\n",
      "[CV 3/3] END rnf_clf__max_depth=10, rnf_clf__min_samples_leaf=4, rnf_clf__n_estimators=10, tfidf_vec__min_df=0.01, tsvd_red__n_components=50;, score=(train=0.983, test=0.928) total time=   0.1s\n",
      "[CV 2/3] END rnf_clf__max_depth=10, rnf_clf__min_samples_leaf=4, rnf_clf__n_estimators=100, tfidf_vec__min_df=0.01, tsvd_red__n_components=50;, score=(train=0.983, test=0.947) total time=   0.9s\n",
      "[CV 2/3] END rnf_clf__max_depth=10, rnf_clf__min_samples_leaf=10, rnf_clf__n_estimators=10, tfidf_vec__min_df=0.05, tsvd_red__n_components=50;, score=(train=nan, test=nan) total time=   0.0s\n",
      "[CV 1/3] END rnf_clf__max_depth=10, rnf_clf__min_samples_leaf=10, rnf_clf__n_estimators=10, tfidf_vec__min_df=0.05, tsvd_red__n_components=150;, score=(train=nan, test=nan) total time=   0.0s\n",
      "[CV 2/3] END rnf_clf__max_depth=10, rnf_clf__min_samples_leaf=10, rnf_clf__n_estimators=100, tfidf_vec__min_df=0.01, tsvd_red__n_components=50;, score=(train=0.961, test=0.913) total time=   0.5s\n",
      "[CV 3/3] END rnf_clf__max_depth=10, rnf_clf__min_samples_leaf=10, rnf_clf__n_estimators=200, tfidf_vec__min_df=0.01, tsvd_red__n_components=50;, score=(train=0.966, test=0.957) total time=   1.2s\n",
      "[CV 1/3] END rnf_clf__max_depth=25, rnf_clf__min_samples_leaf=4, rnf_clf__n_estimators=100, tfidf_vec__min_df=0.05, tsvd_red__n_components=50;, score=(train=nan, test=nan) total time=   0.0s\n",
      "[CV 2/3] END rnf_clf__max_depth=25, rnf_clf__min_samples_leaf=4, rnf_clf__n_estimators=100, tfidf_vec__min_df=0.05, tsvd_red__n_components=50;, score=(train=nan, test=nan) total time=   0.0s\n",
      "[CV 3/3] END rnf_clf__max_depth=25, rnf_clf__min_samples_leaf=4, rnf_clf__n_estimators=100, tfidf_vec__min_df=0.05, tsvd_red__n_components=50;, score=(train=nan, test=nan) total time=   0.1s\n",
      "[CV 1/3] END rnf_clf__max_depth=25, rnf_clf__min_samples_leaf=4, rnf_clf__n_estimators=100, tfidf_vec__min_df=0.05, tsvd_red__n_components=150;, score=(train=nan, test=nan) total time=   0.1s\n",
      "[CV 2/3] END rnf_clf__max_depth=25, rnf_clf__min_samples_leaf=4, rnf_clf__n_estimators=200, tfidf_vec__min_df=0.01, tsvd_red__n_components=150;, score=(train=nan, test=nan) total time=   0.0s\n",
      "[CV 3/3] END rnf_clf__max_depth=25, rnf_clf__min_samples_leaf=4, rnf_clf__n_estimators=200, tfidf_vec__min_df=0.01, tsvd_red__n_components=150;, score=(train=nan, test=nan) total time=   0.0s\n",
      "[CV 3/3] END rnf_clf__max_depth=25, rnf_clf__min_samples_leaf=4, rnf_clf__n_estimators=200, tfidf_vec__min_df=0.05, tsvd_red__n_components=50;, score=(train=nan, test=nan) total time=   0.1s\n",
      "[CV 1/3] END rnf_clf__max_depth=25, rnf_clf__min_samples_leaf=4, rnf_clf__n_estimators=200, tfidf_vec__min_df=0.05, tsvd_red__n_components=150;, score=(train=nan, test=nan) total time=   0.0s\n",
      "[CV 1/3] END rnf_clf__max_depth=25, rnf_clf__min_samples_leaf=10, rnf_clf__n_estimators=10, tfidf_vec__min_df=0.01, tsvd_red__n_components=50;, score=(train=0.949, test=0.923) total time=   0.2s\n",
      "[CV 2/3] END rnf_clf__max_depth=25, rnf_clf__min_samples_leaf=10, rnf_clf__n_estimators=10, tfidf_vec__min_df=0.01, tsvd_red__n_components=50;, score=(train=0.947, test=0.938) total time=   0.1s\n",
      "[CV 3/3] END rnf_clf__max_depth=25, rnf_clf__min_samples_leaf=10, rnf_clf__n_estimators=100, tfidf_vec__min_df=0.01, tsvd_red__n_components=50;, score=(train=0.964, test=0.957) total time=   0.7s\n",
      "[CV 1/3] END rnf_clf__max_depth=25, rnf_clf__min_samples_leaf=10, rnf_clf__n_estimators=100, tfidf_vec__min_df=0.01, tsvd_red__n_components=150;, score=(train=nan, test=nan) total time=   0.0s\n",
      "[CV 2/3] END rnf_clf__max_depth=50, rnf_clf__min_samples_leaf=1, rnf_clf__n_estimators=10, tfidf_vec__min_df=0.01, tsvd_red__n_components=150;, score=(train=nan, test=nan) total time=   0.0s\n",
      "[CV 3/3] END rnf_clf__max_depth=50, rnf_clf__min_samples_leaf=1, rnf_clf__n_estimators=10, tfidf_vec__min_df=0.01, tsvd_red__n_components=150;, score=(train=nan, test=nan) total time=   0.0s\n",
      "[CV 1/3] END rnf_clf__max_depth=50, rnf_clf__min_samples_leaf=1, rnf_clf__n_estimators=10, tfidf_vec__min_df=0.05, tsvd_red__n_components=50;, score=(train=nan, test=nan) total time=   0.0s\n",
      "[CV 2/3] END rnf_clf__max_depth=50, rnf_clf__min_samples_leaf=1, rnf_clf__n_estimators=10, tfidf_vec__min_df=0.05, tsvd_red__n_components=50;, score=(train=nan, test=nan) total time=   0.2s\n",
      "[CV 2/3] END rnf_clf__max_depth=50, rnf_clf__min_samples_leaf=1, rnf_clf__n_estimators=100, tfidf_vec__min_df=0.01, tsvd_red__n_components=150;, score=(train=nan, test=nan) total time=   0.1s\n",
      "[CV 3/3] END rnf_clf__max_depth=50, rnf_clf__min_samples_leaf=1, rnf_clf__n_estimators=100, tfidf_vec__min_df=0.01, tsvd_red__n_components=150;, score=(train=nan, test=nan) total time=   0.0s\n",
      "[CV 1/3] END rnf_clf__max_depth=50, rnf_clf__min_samples_leaf=1, rnf_clf__n_estimators=200, tfidf_vec__min_df=0.01, tsvd_red__n_components=50;, score=(train=1.000, test=0.952) total time=   1.1s\n",
      "[CV 2/3] END rnf_clf__max_depth=50, rnf_clf__min_samples_leaf=1, rnf_clf__n_estimators=200, tfidf_vec__min_df=0.01, tsvd_red__n_components=50;, score=(train=1.000, test=0.952) total time=   0.8s\n",
      "[CV 1/3] END rnf_clf__max_depth=50, rnf_clf__min_samples_leaf=10, rnf_clf__n_estimators=200, tfidf_vec__min_df=0.01, tsvd_red__n_components=150;, score=(train=nan, test=nan) total time=   0.0s\n",
      "[CV 3/3] END rnf_clf__max_depth=50, rnf_clf__min_samples_leaf=10, rnf_clf__n_estimators=200, tfidf_vec__min_df=0.01, tsvd_red__n_components=150;, score=(train=nan, test=nan) total time=   0.0s\n",
      "[CV 2/3] END rnf_clf__max_depth=50, rnf_clf__min_samples_leaf=10, rnf_clf__n_estimators=200, tfidf_vec__min_df=0.05, tsvd_red__n_components=50;, score=(train=nan, test=nan) total time=   0.0s\n",
      "[CV 3/3] END rnf_clf__max_depth=50, rnf_clf__min_samples_leaf=10, rnf_clf__n_estimators=200, tfidf_vec__min_df=0.05, tsvd_red__n_components=50;, score=(train=nan, test=nan) total time=   0.0s\n",
      "[CV 2/3] END rnf_clf__max_depth=50, rnf_clf__min_samples_leaf=10, rnf_clf__n_estimators=200, tfidf_vec__min_df=0.05, tsvd_red__n_components=150;, score=(train=nan, test=nan) total time=   0.0s\n",
      "[CV 1/3] END rnf_clf__max_depth=10, rnf_clf__min_samples_leaf=1, rnf_clf__n_estimators=10, tfidf_vec__min_df=0.01, tsvd_red__n_components=50;, score=(train=1.000, test=0.942) total time=   0.1s\n",
      "[CV 2/3] END rnf_clf__max_depth=10, rnf_clf__min_samples_leaf=1, rnf_clf__n_estimators=100, tfidf_vec__min_df=0.01, tsvd_red__n_components=150;, score=(train=nan, test=nan) total time=   0.0s\n",
      "[CV 2/3] END rnf_clf__max_depth=10, rnf_clf__min_samples_leaf=1, rnf_clf__n_estimators=100, tfidf_vec__min_df=0.05, tsvd_red__n_components=150;, score=(train=nan, test=nan) total time=   0.0s\n",
      "[CV 2/3] END rnf_clf__max_depth=10, rnf_clf__min_samples_leaf=1, rnf_clf__n_estimators=200, tfidf_vec__min_df=0.01, tsvd_red__n_components=150;, score=(train=nan, test=nan) total time=   0.0s\n",
      "[CV 3/3] END rnf_clf__max_depth=10, rnf_clf__min_samples_leaf=1, rnf_clf__n_estimators=200, tfidf_vec__min_df=0.01, tsvd_red__n_components=150;, score=(train=nan, test=nan) total time=   0.0s\n",
      "[CV 3/3] END rnf_clf__max_depth=10, rnf_clf__min_samples_leaf=1, rnf_clf__n_estimators=200, tfidf_vec__min_df=0.05, tsvd_red__n_components=50;, score=(train=nan, test=nan) total time=   0.0s\n",
      "[CV 2/3] END rnf_clf__max_depth=10, rnf_clf__min_samples_leaf=1, rnf_clf__n_estimators=200, tfidf_vec__min_df=0.05, tsvd_red__n_components=150;, score=(train=nan, test=nan) total time=   0.0s\n",
      "[CV 1/3] END rnf_clf__max_depth=10, rnf_clf__min_samples_leaf=4, rnf_clf__n_estimators=10, tfidf_vec__min_df=0.01, tsvd_red__n_components=50;, score=(train=0.988, test=0.933) total time=   0.2s\n",
      "[CV 2/3] END rnf_clf__max_depth=10, rnf_clf__min_samples_leaf=4, rnf_clf__n_estimators=10, tfidf_vec__min_df=0.01, tsvd_red__n_components=150;, score=(train=nan, test=nan) total time=   0.0s\n",
      "[CV 1/3] END rnf_clf__max_depth=10, rnf_clf__min_samples_leaf=4, rnf_clf__n_estimators=10, tfidf_vec__min_df=0.05, tsvd_red__n_components=150;, score=(train=nan, test=nan) total time=   0.1s\n",
      "[CV 3/3] END rnf_clf__max_depth=10, rnf_clf__min_samples_leaf=4, rnf_clf__n_estimators=100, tfidf_vec__min_df=0.01, tsvd_red__n_components=50;, score=(train=0.993, test=0.957) total time=   0.6s\n",
      "[CV 1/3] END rnf_clf__max_depth=10, rnf_clf__min_samples_leaf=4, rnf_clf__n_estimators=200, tfidf_vec__min_df=0.05, tsvd_red__n_components=50;, score=(train=nan, test=nan) total time=   0.0s\n",
      "[CV 2/3] END rnf_clf__max_depth=10, rnf_clf__min_samples_leaf=4, rnf_clf__n_estimators=200, tfidf_vec__min_df=0.05, tsvd_red__n_components=150;, score=(train=nan, test=nan) total time=   0.0s\n",
      "[CV 2/3] END rnf_clf__max_depth=10, rnf_clf__min_samples_leaf=10, rnf_clf__n_estimators=10, tfidf_vec__min_df=0.01, tsvd_red__n_components=50;, score=(train=0.947, test=0.938) total time=   0.1s\n",
      "[CV 2/3] END rnf_clf__max_depth=10, rnf_clf__min_samples_leaf=10, rnf_clf__n_estimators=100, tfidf_vec__min_df=0.01, tsvd_red__n_components=150;, score=(train=nan, test=nan) total time=   0.0s\n",
      "[CV 3/3] END rnf_clf__max_depth=10, rnf_clf__min_samples_leaf=10, rnf_clf__n_estimators=100, tfidf_vec__min_df=0.01, tsvd_red__n_components=150;, score=(train=nan, test=nan) total time=   0.0s\n",
      "[CV 1/3] END rnf_clf__max_depth=10, rnf_clf__min_samples_leaf=10, rnf_clf__n_estimators=100, tfidf_vec__min_df=0.05, tsvd_red__n_components=50;, score=(train=nan, test=nan) total time=   0.0s\n",
      "[CV 2/3] END rnf_clf__max_depth=10, rnf_clf__min_samples_leaf=10, rnf_clf__n_estimators=100, tfidf_vec__min_df=0.05, tsvd_red__n_components=50;, score=(train=nan, test=nan) total time=   0.1s\n",
      "[CV 2/3] END rnf_clf__max_depth=10, rnf_clf__min_samples_leaf=10, rnf_clf__n_estimators=100, tfidf_vec__min_df=0.05, tsvd_red__n_components=150;, score=(train=nan, test=nan) total time=   0.2s\n",
      "[CV 1/3] END rnf_clf__max_depth=10, rnf_clf__min_samples_leaf=10, rnf_clf__n_estimators=200, tfidf_vec__min_df=0.01, tsvd_red__n_components=50;, score=(train=0.957, test=0.918) total time=   1.3s\n",
      "[CV 2/3] END rnf_clf__max_depth=25, rnf_clf__min_samples_leaf=4, rnf_clf__n_estimators=10, tfidf_vec__min_df=0.01, tsvd_red__n_components=150;, score=(train=nan, test=nan) total time=   0.0s\n",
      "[CV 3/3] END rnf_clf__max_depth=25, rnf_clf__min_samples_leaf=4, rnf_clf__n_estimators=10, tfidf_vec__min_df=0.01, tsvd_red__n_components=150;, score=(train=nan, test=nan) total time=   0.0s\n",
      "[CV 1/3] END rnf_clf__max_depth=25, rnf_clf__min_samples_leaf=4, rnf_clf__n_estimators=10, tfidf_vec__min_df=0.05, tsvd_red__n_components=50;, score=(train=nan, test=nan) total time=   0.0s\n",
      "[CV 2/3] END rnf_clf__max_depth=25, rnf_clf__min_samples_leaf=4, rnf_clf__n_estimators=10, tfidf_vec__min_df=0.05, tsvd_red__n_components=50;, score=(train=nan, test=nan) total time=   0.0s\n",
      "[CV 2/3] END rnf_clf__max_depth=25, rnf_clf__min_samples_leaf=4, rnf_clf__n_estimators=10, tfidf_vec__min_df=0.05, tsvd_red__n_components=150;, score=(train=nan, test=nan) total time=   0.0s\n",
      "[CV 3/3] END rnf_clf__max_depth=25, rnf_clf__min_samples_leaf=4, rnf_clf__n_estimators=10, tfidf_vec__min_df=0.05, tsvd_red__n_components=150;, score=(train=nan, test=nan) total time=   0.1s\n",
      "[CV 2/3] END rnf_clf__max_depth=25, rnf_clf__min_samples_leaf=4, rnf_clf__n_estimators=100, tfidf_vec__min_df=0.01, tsvd_red__n_components=150;, score=(train=nan, test=nan) total time=   0.0s\n",
      "[CV 3/3] END rnf_clf__max_depth=25, rnf_clf__min_samples_leaf=4, rnf_clf__n_estimators=100, tfidf_vec__min_df=0.01, tsvd_red__n_components=150;, score=(train=nan, test=nan) total time=   0.2s\n",
      "[CV 3/3] END rnf_clf__max_depth=25, rnf_clf__min_samples_leaf=4, rnf_clf__n_estimators=200, tfidf_vec__min_df=0.01, tsvd_red__n_components=50;, score=(train=0.993, test=0.957) total time=   1.1s\n",
      "[CV 1/3] END rnf_clf__max_depth=25, rnf_clf__min_samples_leaf=4, rnf_clf__n_estimators=200, tfidf_vec__min_df=0.01, tsvd_red__n_components=150;, score=(train=nan, test=nan) total time=   0.0s\n",
      "[CV 3/3] END rnf_clf__max_depth=25, rnf_clf__min_samples_leaf=10, rnf_clf__n_estimators=200, tfidf_vec__min_df=0.05, tsvd_red__n_components=50;, score=(train=nan, test=nan) total time=   0.0s\n",
      "[CV 1/3] END rnf_clf__max_depth=25, rnf_clf__min_samples_leaf=10, rnf_clf__n_estimators=200, tfidf_vec__min_df=0.05, tsvd_red__n_components=150;, score=(train=nan, test=nan) total time=   0.0s\n",
      "[CV 1/3] END rnf_clf__max_depth=50, rnf_clf__min_samples_leaf=1, rnf_clf__n_estimators=10, tfidf_vec__min_df=0.01, tsvd_red__n_components=50;, score=(train=1.000, test=0.942) total time=   0.1s\n",
      "[CV 2/3] END rnf_clf__max_depth=50, rnf_clf__min_samples_leaf=1, rnf_clf__n_estimators=10, tfidf_vec__min_df=0.01, tsvd_red__n_components=50;, score=(train=0.998, test=0.947) total time=   0.1s\n",
      "[CV 3/3] END rnf_clf__max_depth=50, rnf_clf__min_samples_leaf=1, rnf_clf__n_estimators=100, tfidf_vec__min_df=0.05, tsvd_red__n_components=50;, score=(train=nan, test=nan) total time=   0.0s\n",
      "[CV 1/3] END rnf_clf__max_depth=50, rnf_clf__min_samples_leaf=1, rnf_clf__n_estimators=100, tfidf_vec__min_df=0.05, tsvd_red__n_components=150;, score=(train=nan, test=nan) total time=   0.0s\n",
      "[CV 3/3] END rnf_clf__max_depth=50, rnf_clf__min_samples_leaf=1, rnf_clf__n_estimators=200, tfidf_vec__min_df=0.01, tsvd_red__n_components=50;, score=(train=1.000, test=0.952) total time=   1.1s\n",
      "[CV 1/3] END rnf_clf__max_depth=50, rnf_clf__min_samples_leaf=1, rnf_clf__n_estimators=200, tfidf_vec__min_df=0.01, tsvd_red__n_components=150;, score=(train=nan, test=nan) total time=   0.0s\n",
      "[CV 1/3] END rnf_clf__max_depth=50, rnf_clf__min_samples_leaf=4, rnf_clf__n_estimators=200, tfidf_vec__min_df=0.05, tsvd_red__n_components=50;, score=(train=nan, test=nan) total time=   0.0s\n",
      "[CV 2/3] END rnf_clf__max_depth=50, rnf_clf__min_samples_leaf=4, rnf_clf__n_estimators=200, tfidf_vec__min_df=0.05, tsvd_red__n_components=50;, score=(train=nan, test=nan) total time=   0.0s\n",
      "[CV 2/3] END rnf_clf__max_depth=50, rnf_clf__min_samples_leaf=4, rnf_clf__n_estimators=200, tfidf_vec__min_df=0.05, tsvd_red__n_components=150;, score=(train=nan, test=nan) total time=   0.0s\n",
      "[CV 3/3] END rnf_clf__max_depth=50, rnf_clf__min_samples_leaf=4, rnf_clf__n_estimators=200, tfidf_vec__min_df=0.05, tsvd_red__n_components=150;, score=(train=nan, test=nan) total time=   0.0s\n",
      "[CV 3/3] END rnf_clf__max_depth=50, rnf_clf__min_samples_leaf=10, rnf_clf__n_estimators=10, tfidf_vec__min_df=0.01, tsvd_red__n_components=50;, score=(train=0.966, test=0.932) total time=   0.1s\n",
      "[CV 1/3] END rnf_clf__max_depth=50, rnf_clf__min_samples_leaf=10, rnf_clf__n_estimators=10, tfidf_vec__min_df=0.01, tsvd_red__n_components=150;, score=(train=nan, test=nan) total time=   0.0s\n",
      "[CV 2/3] END rnf_clf__max_depth=50, rnf_clf__min_samples_leaf=10, rnf_clf__n_estimators=100, tfidf_vec__min_df=0.01, tsvd_red__n_components=150;, score=(train=nan, test=nan) total time=   0.1s\n",
      "[CV 3/3] END rnf_clf__max_depth=50, rnf_clf__min_samples_leaf=10, rnf_clf__n_estimators=100, tfidf_vec__min_df=0.01, tsvd_red__n_components=150;, score=(train=nan, test=nan) total time=   0.0s\n",
      "[CV 3/3] END rnf_clf__max_depth=50, rnf_clf__min_samples_leaf=10, rnf_clf__n_estimators=100, tfidf_vec__min_df=0.05, tsvd_red__n_components=50;, score=(train=nan, test=nan) total time=   0.1s\n",
      "[CV 1/3] END rnf_clf__max_depth=50, rnf_clf__min_samples_leaf=10, rnf_clf__n_estimators=100, tfidf_vec__min_df=0.05, tsvd_red__n_components=150;, score=(train=nan, test=nan) total time=   0.0s\n",
      "[CV 3/3] END rnf_clf__max_depth=50, rnf_clf__min_samples_leaf=10, rnf_clf__n_estimators=200, tfidf_vec__min_df=0.01, tsvd_red__n_components=50;, score=(train=0.966, test=0.957) total time=   1.0s\n",
      "[CV 3/3] END rnf_clf__max_depth=10, rnf_clf__min_samples_leaf=1, rnf_clf__n_estimators=10, tfidf_vec__min_df=0.01, tsvd_red__n_components=50;, score=(train=1.000, test=0.947) total time=   0.1s\n",
      "[CV 1/3] END rnf_clf__max_depth=10, rnf_clf__min_samples_leaf=1, rnf_clf__n_estimators=100, tfidf_vec__min_df=0.01, tsvd_red__n_components=150;, score=(train=nan, test=nan) total time=   0.0s\n",
      "[CV 1/3] END rnf_clf__max_depth=10, rnf_clf__min_samples_leaf=1, rnf_clf__n_estimators=100, tfidf_vec__min_df=0.05, tsvd_red__n_components=150;, score=(train=nan, test=nan) total time=   0.0s\n",
      "[CV 2/3] END rnf_clf__max_depth=10, rnf_clf__min_samples_leaf=1, rnf_clf__n_estimators=200, tfidf_vec__min_df=0.01, tsvd_red__n_components=50;, score=(train=1.000, test=0.957) total time=   1.1s\n",
      "[CV 3/3] END rnf_clf__max_depth=10, rnf_clf__min_samples_leaf=4, rnf_clf__n_estimators=200, tfidf_vec__min_df=0.01, tsvd_red__n_components=50;, score=(train=0.993, test=0.957) total time=   1.2s\n",
      "[CV 3/3] END rnf_clf__max_depth=25, rnf_clf__min_samples_leaf=1, rnf_clf__n_estimators=10, tfidf_vec__min_df=0.05, tsvd_red__n_components=50;, score=(train=nan, test=nan) total time=   0.0s\n",
      "[CV 1/3] END rnf_clf__max_depth=25, rnf_clf__min_samples_leaf=1, rnf_clf__n_estimators=10, tfidf_vec__min_df=0.05, tsvd_red__n_components=150;, score=(train=nan, test=nan) total time=   0.0s\n",
      "[CV 1/3] END rnf_clf__max_depth=25, rnf_clf__min_samples_leaf=1, rnf_clf__n_estimators=100, tfidf_vec__min_df=0.01, tsvd_red__n_components=50;, score=(train=1.000, test=0.952) total time=   0.5s\n",
      "[CV 2/3] END rnf_clf__max_depth=25, rnf_clf__min_samples_leaf=1, rnf_clf__n_estimators=100, tfidf_vec__min_df=0.01, tsvd_red__n_components=50;, score=(train=1.000, test=0.957) total time=   0.6s\n",
      "[CV 1/3] END rnf_clf__max_depth=25, rnf_clf__min_samples_leaf=4, rnf_clf__n_estimators=200, tfidf_vec__min_df=0.01, tsvd_red__n_components=50;, score=(train=1.000, test=0.942) total time=   1.1s\n",
      "[CV 2/3] END rnf_clf__max_depth=25, rnf_clf__min_samples_leaf=4, rnf_clf__n_estimators=200, tfidf_vec__min_df=0.01, tsvd_red__n_components=50;, score=(train=0.983, test=0.942) total time=   0.9s\n",
      "[CV 3/3] END rnf_clf__max_depth=50, rnf_clf__min_samples_leaf=4, rnf_clf__n_estimators=10, tfidf_vec__min_df=0.01, tsvd_red__n_components=50;, score=(train=0.983, test=0.928) total time=   0.1s\n",
      "[CV 1/3] END rnf_clf__max_depth=50, rnf_clf__min_samples_leaf=4, rnf_clf__n_estimators=10, tfidf_vec__min_df=0.01, tsvd_red__n_components=150;, score=(train=nan, test=nan) total time=   0.0s\n",
      "[CV 1/3] END rnf_clf__max_depth=50, rnf_clf__min_samples_leaf=4, rnf_clf__n_estimators=100, tfidf_vec__min_df=0.01, tsvd_red__n_components=50;, score=(train=0.995, test=0.938) total time=   0.6s\n",
      "[CV 2/3] END rnf_clf__max_depth=50, rnf_clf__min_samples_leaf=4, rnf_clf__n_estimators=100, tfidf_vec__min_df=0.01, tsvd_red__n_components=50;, score=(train=0.983, test=0.947) total time=   0.4s\n",
      "[CV 2/3] END rnf_clf__max_depth=50, rnf_clf__min_samples_leaf=10, rnf_clf__n_estimators=100, tfidf_vec__min_df=0.05, tsvd_red__n_components=150;, score=(train=nan, test=nan) total time=   0.0s\n",
      "[CV 3/3] END rnf_clf__max_depth=50, rnf_clf__min_samples_leaf=10, rnf_clf__n_estimators=100, tfidf_vec__min_df=0.05, tsvd_red__n_components=150;, score=(train=nan, test=nan) total time=   0.0s\n",
      "[CV 2/3] END rnf_clf__max_depth=50, rnf_clf__min_samples_leaf=10, rnf_clf__n_estimators=200, tfidf_vec__min_df=0.01, tsvd_red__n_components=50;, score=(train=0.964, test=0.909) total time=   1.0s\n",
      "[CV 3/3] END rnf_clf__max_depth=10, rnf_clf__min_samples_leaf=1, rnf_clf__n_estimators=10, tfidf_vec__min_df=0.01, tsvd_red__n_components=150;, score=(train=nan, test=nan) total time=   0.0s\n",
      "[CV 3/3] END rnf_clf__max_depth=10, rnf_clf__min_samples_leaf=1, rnf_clf__n_estimators=100, tfidf_vec__min_df=0.01, tsvd_red__n_components=150;, score=(train=nan, test=nan) total time=   0.0s\n",
      "[CV 3/3] END rnf_clf__max_depth=10, rnf_clf__min_samples_leaf=1, rnf_clf__n_estimators=100, tfidf_vec__min_df=0.05, tsvd_red__n_components=50;, score=(train=nan, test=nan) total time=   0.0s\n",
      "[CV 1/3] END rnf_clf__max_depth=10, rnf_clf__min_samples_leaf=1, rnf_clf__n_estimators=200, tfidf_vec__min_df=0.01, tsvd_red__n_components=50;, score=(train=1.000, test=0.947) total time=   1.2s\n",
      "[CV 1/3] END rnf_clf__max_depth=10, rnf_clf__min_samples_leaf=4, rnf_clf__n_estimators=200, tfidf_vec__min_df=0.05, tsvd_red__n_components=150;, score=(train=nan, test=nan) total time=   0.0s\n",
      "[CV 3/3] END rnf_clf__max_depth=10, rnf_clf__min_samples_leaf=4, rnf_clf__n_estimators=200, tfidf_vec__min_df=0.05, tsvd_red__n_components=150;, score=(train=nan, test=nan) total time=   0.0s\n",
      "[CV 3/3] END rnf_clf__max_depth=10, rnf_clf__min_samples_leaf=10, rnf_clf__n_estimators=10, tfidf_vec__min_df=0.01, tsvd_red__n_components=50;, score=(train=0.966, test=0.932) total time=   0.1s\n",
      "[CV 2/3] END rnf_clf__max_depth=10, rnf_clf__min_samples_leaf=10, rnf_clf__n_estimators=10, tfidf_vec__min_df=0.05, tsvd_red__n_components=150;, score=(train=nan, test=nan) total time=   0.0s\n",
      "[CV 3/3] END rnf_clf__max_depth=10, rnf_clf__min_samples_leaf=10, rnf_clf__n_estimators=100, tfidf_vec__min_df=0.01, tsvd_red__n_components=50;, score=(train=0.964, test=0.957) total time=   0.7s\n",
      "[CV 3/3] END rnf_clf__max_depth=10, rnf_clf__min_samples_leaf=10, rnf_clf__n_estimators=200, tfidf_vec__min_df=0.05, tsvd_red__n_components=50;, score=(train=nan, test=nan) total time=   0.0s\n",
      "[CV 1/3] END rnf_clf__max_depth=10, rnf_clf__min_samples_leaf=10, rnf_clf__n_estimators=200, tfidf_vec__min_df=0.05, tsvd_red__n_components=150;, score=(train=nan, test=nan) total time=   0.0s\n",
      "[CV 2/3] END rnf_clf__max_depth=25, rnf_clf__min_samples_leaf=1, rnf_clf__n_estimators=10, tfidf_vec__min_df=0.01, tsvd_red__n_components=150;, score=(train=nan, test=nan) total time=   0.0s\n",
      "[CV 3/3] END rnf_clf__max_depth=25, rnf_clf__min_samples_leaf=1, rnf_clf__n_estimators=10, tfidf_vec__min_df=0.01, tsvd_red__n_components=150;, score=(train=nan, test=nan) total time=   0.0s\n",
      "[CV 2/3] END rnf_clf__max_depth=25, rnf_clf__min_samples_leaf=1, rnf_clf__n_estimators=10, tfidf_vec__min_df=0.05, tsvd_red__n_components=150;, score=(train=nan, test=nan) total time=   0.0s\n",
      "[CV 3/3] END rnf_clf__max_depth=25, rnf_clf__min_samples_leaf=1, rnf_clf__n_estimators=10, tfidf_vec__min_df=0.05, tsvd_red__n_components=150;, score=(train=nan, test=nan) total time=   0.1s\n",
      "[CV 2/3] END rnf_clf__max_depth=25, rnf_clf__min_samples_leaf=1, rnf_clf__n_estimators=100, tfidf_vec__min_df=0.01, tsvd_red__n_components=150;, score=(train=nan, test=nan) total time=   0.0s\n",
      "[CV 3/3] END rnf_clf__max_depth=25, rnf_clf__min_samples_leaf=1, rnf_clf__n_estimators=100, tfidf_vec__min_df=0.01, tsvd_red__n_components=150;, score=(train=nan, test=nan) total time=   0.1s\n",
      "[CV 2/3] END rnf_clf__max_depth=25, rnf_clf__min_samples_leaf=1, rnf_clf__n_estimators=100, tfidf_vec__min_df=0.05, tsvd_red__n_components=150;, score=(train=nan, test=nan) total time=   0.0s\n",
      "[CV 3/3] END rnf_clf__max_depth=25, rnf_clf__min_samples_leaf=1, rnf_clf__n_estimators=100, tfidf_vec__min_df=0.05, tsvd_red__n_components=150;, score=(train=nan, test=nan) total time=   0.1s\n",
      "[CV 2/3] END rnf_clf__max_depth=25, rnf_clf__min_samples_leaf=1, rnf_clf__n_estimators=200, tfidf_vec__min_df=0.01, tsvd_red__n_components=150;, score=(train=nan, test=nan) total time=   0.2s\n",
      "[CV 3/3] END rnf_clf__max_depth=25, rnf_clf__min_samples_leaf=1, rnf_clf__n_estimators=200, tfidf_vec__min_df=0.01, tsvd_red__n_components=150;, score=(train=nan, test=nan) total time=   0.0s\n",
      "[CV 1/3] END rnf_clf__max_depth=25, rnf_clf__min_samples_leaf=1, rnf_clf__n_estimators=200, tfidf_vec__min_df=0.05, tsvd_red__n_components=50;, score=(train=nan, test=nan) total time=   0.1s\n",
      "[CV 2/3] END rnf_clf__max_depth=25, rnf_clf__min_samples_leaf=1, rnf_clf__n_estimators=200, tfidf_vec__min_df=0.05, tsvd_red__n_components=50;, score=(train=nan, test=nan) total time=   0.0s\n",
      "[CV 1/3] END rnf_clf__max_depth=25, rnf_clf__min_samples_leaf=4, rnf_clf__n_estimators=10, tfidf_vec__min_df=0.01, tsvd_red__n_components=50;, score=(train=0.988, test=0.933) total time=   0.1s\n",
      "[CV 2/3] END rnf_clf__max_depth=25, rnf_clf__min_samples_leaf=4, rnf_clf__n_estimators=10, tfidf_vec__min_df=0.01, tsvd_red__n_components=50;, score=(train=0.978, test=0.952) total time=   0.2s\n",
      "[CV 2/3] END rnf_clf__max_depth=25, rnf_clf__min_samples_leaf=4, rnf_clf__n_estimators=100, tfidf_vec__min_df=0.05, tsvd_red__n_components=150;, score=(train=nan, test=nan) total time=   0.0s\n",
      "[CV 3/3] END rnf_clf__max_depth=25, rnf_clf__min_samples_leaf=4, rnf_clf__n_estimators=100, tfidf_vec__min_df=0.05, tsvd_red__n_components=150;, score=(train=nan, test=nan) total time=   0.1s\n",
      "[CV 1/3] END rnf_clf__max_depth=25, rnf_clf__min_samples_leaf=4, rnf_clf__n_estimators=200, tfidf_vec__min_df=0.05, tsvd_red__n_components=50;, score=(train=nan, test=nan) total time=   0.0s\n",
      "[CV 2/3] END rnf_clf__max_depth=25, rnf_clf__min_samples_leaf=4, rnf_clf__n_estimators=200, tfidf_vec__min_df=0.05, tsvd_red__n_components=50;, score=(train=nan, test=nan) total time=   0.1s\n",
      "[CV 2/3] END rnf_clf__max_depth=25, rnf_clf__min_samples_leaf=4, rnf_clf__n_estimators=200, tfidf_vec__min_df=0.05, tsvd_red__n_components=150;, score=(train=nan, test=nan) total time=   0.1s\n",
      "[CV 3/3] END rnf_clf__max_depth=25, rnf_clf__min_samples_leaf=4, rnf_clf__n_estimators=200, tfidf_vec__min_df=0.05, tsvd_red__n_components=150;, score=(train=nan, test=nan) total time=   0.1s\n",
      "[CV 3/3] END rnf_clf__max_depth=25, rnf_clf__min_samples_leaf=10, rnf_clf__n_estimators=10, tfidf_vec__min_df=0.01, tsvd_red__n_components=50;, score=(train=0.966, test=0.932) total time=   0.1s\n",
      "[CV 1/3] END rnf_clf__max_depth=25, rnf_clf__min_samples_leaf=10, rnf_clf__n_estimators=10, tfidf_vec__min_df=0.01, tsvd_red__n_components=150;, score=(train=nan, test=nan) total time=   0.0s\n",
      "[CV 3/3] END rnf_clf__max_depth=25, rnf_clf__min_samples_leaf=10, rnf_clf__n_estimators=10, tfidf_vec__min_df=0.05, tsvd_red__n_components=50;, score=(train=nan, test=nan) total time=   0.0s\n",
      "[CV 1/3] END rnf_clf__max_depth=25, rnf_clf__min_samples_leaf=10, rnf_clf__n_estimators=10, tfidf_vec__min_df=0.05, tsvd_red__n_components=150;, score=(train=nan, test=nan) total time=   0.1s\n",
      "[CV 1/3] END rnf_clf__max_depth=25, rnf_clf__min_samples_leaf=10, rnf_clf__n_estimators=100, tfidf_vec__min_df=0.05, tsvd_red__n_components=50;, score=(train=nan, test=nan) total time=   0.0s\n",
      "[CV 2/3] END rnf_clf__max_depth=25, rnf_clf__min_samples_leaf=10, rnf_clf__n_estimators=100, tfidf_vec__min_df=0.05, tsvd_red__n_components=50;, score=(train=nan, test=nan) total time=   0.0s\n",
      "[CV 2/3] END rnf_clf__max_depth=25, rnf_clf__min_samples_leaf=10, rnf_clf__n_estimators=100, tfidf_vec__min_df=0.05, tsvd_red__n_components=150;, score=(train=nan, test=nan) total time=   0.2s\n",
      "[CV 3/3] END rnf_clf__max_depth=25, rnf_clf__min_samples_leaf=10, rnf_clf__n_estimators=100, tfidf_vec__min_df=0.05, tsvd_red__n_components=150;, score=(train=nan, test=nan) total time=   0.0s\n",
      "[CV 2/3] END rnf_clf__max_depth=25, rnf_clf__min_samples_leaf=10, rnf_clf__n_estimators=200, tfidf_vec__min_df=0.01, tsvd_red__n_components=150;, score=(train=nan, test=nan) total time=   0.1s\n",
      "[CV 3/3] END rnf_clf__max_depth=25, rnf_clf__min_samples_leaf=10, rnf_clf__n_estimators=200, tfidf_vec__min_df=0.01, tsvd_red__n_components=150;, score=(train=nan, test=nan) total time=   0.0s\n",
      "[CV 1/3] END rnf_clf__max_depth=25, rnf_clf__min_samples_leaf=10, rnf_clf__n_estimators=200, tfidf_vec__min_df=0.05, tsvd_red__n_components=50;, score=(train=nan, test=nan) total time=   0.1s\n",
      "[CV 2/3] END rnf_clf__max_depth=25, rnf_clf__min_samples_leaf=10, rnf_clf__n_estimators=200, tfidf_vec__min_df=0.05, tsvd_red__n_components=50;, score=(train=nan, test=nan) total time=   0.0s\n",
      "[CV 2/3] END rnf_clf__max_depth=25, rnf_clf__min_samples_leaf=10, rnf_clf__n_estimators=200, tfidf_vec__min_df=0.05, tsvd_red__n_components=150;, score=(train=nan, test=nan) total time=   0.0s\n",
      "[CV 3/3] END rnf_clf__max_depth=25, rnf_clf__min_samples_leaf=10, rnf_clf__n_estimators=200, tfidf_vec__min_df=0.05, tsvd_red__n_components=150;, score=(train=nan, test=nan) total time=   0.0s\n",
      "[CV 3/3] END rnf_clf__max_depth=50, rnf_clf__min_samples_leaf=1, rnf_clf__n_estimators=10, tfidf_vec__min_df=0.01, tsvd_red__n_components=50;, score=(train=1.000, test=0.947) total time=   0.1s\n",
      "[CV 1/3] END rnf_clf__max_depth=50, rnf_clf__min_samples_leaf=1, rnf_clf__n_estimators=10, tfidf_vec__min_df=0.01, tsvd_red__n_components=150;, score=(train=nan, test=nan) total time=   0.0s\n",
      "[CV 1/3] END rnf_clf__max_depth=50, rnf_clf__min_samples_leaf=1, rnf_clf__n_estimators=100, tfidf_vec__min_df=0.01, tsvd_red__n_components=50;, score=(train=1.000, test=0.952) total time=   0.6s\n",
      "[CV 2/3] END rnf_clf__max_depth=50, rnf_clf__min_samples_leaf=1, rnf_clf__n_estimators=100, tfidf_vec__min_df=0.01, tsvd_red__n_components=50;, score=(train=1.000, test=0.957) total time=   0.4s\n",
      "[CV 3/3] END rnf_clf__max_depth=50, rnf_clf__min_samples_leaf=4, rnf_clf__n_estimators=200, tfidf_vec__min_df=0.01, tsvd_red__n_components=50;, score=(train=0.993, test=0.957) total time=   1.1s\n",
      "[CV 1/3] END rnf_clf__max_depth=50, rnf_clf__min_samples_leaf=4, rnf_clf__n_estimators=200, tfidf_vec__min_df=0.01, tsvd_red__n_components=150;, score=(train=nan, test=nan) total time=   0.0s\n",
      "[CV 1/3] END rnf_clf__max_depth=10, rnf_clf__min_samples_leaf=1, rnf_clf__n_estimators=10, tfidf_vec__min_df=0.01, tsvd_red__n_components=150;, score=(train=nan, test=nan) total time=   0.0s\n",
      "[CV 3/3] END rnf_clf__max_depth=10, rnf_clf__min_samples_leaf=1, rnf_clf__n_estimators=10, tfidf_vec__min_df=0.05, tsvd_red__n_components=50;, score=(train=nan, test=nan) total time=   0.0s\n",
      "[CV 3/3] END rnf_clf__max_depth=10, rnf_clf__min_samples_leaf=1, rnf_clf__n_estimators=10, tfidf_vec__min_df=0.05, tsvd_red__n_components=150;, score=(train=nan, test=nan) total time=   0.0s\n",
      "[CV 3/3] END rnf_clf__max_depth=10, rnf_clf__min_samples_leaf=1, rnf_clf__n_estimators=100, tfidf_vec__min_df=0.01, tsvd_red__n_components=50;, score=(train=1.000, test=0.966) total time=   0.4s\n",
      "[CV 1/3] END rnf_clf__max_depth=10, rnf_clf__min_samples_leaf=4, rnf_clf__n_estimators=10, tfidf_vec__min_df=0.01, tsvd_red__n_components=150;, score=(train=nan, test=nan) total time=   0.0s\n",
      "[CV 3/3] END rnf_clf__max_depth=10, rnf_clf__min_samples_leaf=4, rnf_clf__n_estimators=10, tfidf_vec__min_df=0.01, tsvd_red__n_components=150;, score=(train=nan, test=nan) total time=   0.0s\n",
      "[CV 3/3] END rnf_clf__max_depth=10, rnf_clf__min_samples_leaf=4, rnf_clf__n_estimators=10, tfidf_vec__min_df=0.05, tsvd_red__n_components=50;, score=(train=nan, test=nan) total time=   0.0s\n",
      "[CV 3/3] END rnf_clf__max_depth=10, rnf_clf__min_samples_leaf=4, rnf_clf__n_estimators=10, tfidf_vec__min_df=0.05, tsvd_red__n_components=150;, score=(train=nan, test=nan) total time=   0.0s\n",
      "[CV 2/3] END rnf_clf__max_depth=10, rnf_clf__min_samples_leaf=4, rnf_clf__n_estimators=100, tfidf_vec__min_df=0.01, tsvd_red__n_components=150;, score=(train=nan, test=nan) total time=   0.1s\n",
      "[CV 2/3] END rnf_clf__max_depth=10, rnf_clf__min_samples_leaf=4, rnf_clf__n_estimators=100, tfidf_vec__min_df=0.05, tsvd_red__n_components=50;, score=(train=nan, test=nan) total time=   0.0s\n",
      "[CV 1/3] END rnf_clf__max_depth=10, rnf_clf__min_samples_leaf=4, rnf_clf__n_estimators=100, tfidf_vec__min_df=0.05, tsvd_red__n_components=150;, score=(train=nan, test=nan) total time=   0.0s\n",
      "[CV 2/3] END rnf_clf__max_depth=10, rnf_clf__min_samples_leaf=4, rnf_clf__n_estimators=100, tfidf_vec__min_df=0.05, tsvd_red__n_components=150;, score=(train=nan, test=nan) total time=   0.0s\n",
      "[CV 3/3] END rnf_clf__max_depth=10, rnf_clf__min_samples_leaf=4, rnf_clf__n_estimators=100, tfidf_vec__min_df=0.05, tsvd_red__n_components=150;, score=(train=nan, test=nan) total time=   0.0s\n",
      "[CV 2/3] END rnf_clf__max_depth=10, rnf_clf__min_samples_leaf=4, rnf_clf__n_estimators=200, tfidf_vec__min_df=0.01, tsvd_red__n_components=50;, score=(train=0.983, test=0.942) total time=   1.3s\n",
      "[CV 2/3] END rnf_clf__max_depth=10, rnf_clf__min_samples_leaf=10, rnf_clf__n_estimators=200, tfidf_vec__min_df=0.01, tsvd_red__n_components=150;, score=(train=nan, test=nan) total time=   0.0s\n",
      "[CV 1/3] END rnf_clf__max_depth=10, rnf_clf__min_samples_leaf=10, rnf_clf__n_estimators=200, tfidf_vec__min_df=0.05, tsvd_red__n_components=50;, score=(train=nan, test=nan) total time=   0.0s\n",
      "[CV 3/3] END rnf_clf__max_depth=25, rnf_clf__min_samples_leaf=1, rnf_clf__n_estimators=10, tfidf_vec__min_df=0.01, tsvd_red__n_components=50;, score=(train=1.000, test=0.947) total time=   0.1s\n",
      "[CV 1/3] END rnf_clf__max_depth=25, rnf_clf__min_samples_leaf=1, rnf_clf__n_estimators=10, tfidf_vec__min_df=0.01, tsvd_red__n_components=150;, score=(train=nan, test=nan) total time=   0.0s\n",
      "[CV 1/3] END rnf_clf__max_depth=25, rnf_clf__min_samples_leaf=1, rnf_clf__n_estimators=100, tfidf_vec__min_df=0.05, tsvd_red__n_components=50;, score=(train=nan, test=nan) total time=   0.0s\n",
      "[CV 2/3] END rnf_clf__max_depth=25, rnf_clf__min_samples_leaf=1, rnf_clf__n_estimators=100, tfidf_vec__min_df=0.05, tsvd_red__n_components=50;, score=(train=nan, test=nan) total time=   0.0s\n",
      "[CV 3/3] END rnf_clf__max_depth=25, rnf_clf__min_samples_leaf=1, rnf_clf__n_estimators=100, tfidf_vec__min_df=0.05, tsvd_red__n_components=50;, score=(train=nan, test=nan) total time=   0.0s\n",
      "[CV 1/3] END rnf_clf__max_depth=25, rnf_clf__min_samples_leaf=1, rnf_clf__n_estimators=100, tfidf_vec__min_df=0.05, tsvd_red__n_components=150;, score=(train=nan, test=nan) total time=   0.0s\n",
      "[CV 3/3] END rnf_clf__max_depth=25, rnf_clf__min_samples_leaf=1, rnf_clf__n_estimators=200, tfidf_vec__min_df=0.01, tsvd_red__n_components=50;, score=(train=1.000, test=0.952) total time=   1.4s\n",
      "[CV 1/3] END rnf_clf__max_depth=25, rnf_clf__min_samples_leaf=1, rnf_clf__n_estimators=200, tfidf_vec__min_df=0.01, tsvd_red__n_components=150;, score=(train=nan, test=nan) total time=   0.0s\n",
      "[CV 1/3] END rnf_clf__max_depth=25, rnf_clf__min_samples_leaf=10, rnf_clf__n_estimators=100, tfidf_vec__min_df=0.01, tsvd_red__n_components=50;, score=(train=0.949, test=0.918) total time=   0.5s\n",
      "[CV 2/3] END rnf_clf__max_depth=25, rnf_clf__min_samples_leaf=10, rnf_clf__n_estimators=100, tfidf_vec__min_df=0.01, tsvd_red__n_components=50;, score=(train=0.961, test=0.913) total time=   0.5s\n",
      "[CV 1/3] END rnf_clf__max_depth=50, rnf_clf__min_samples_leaf=1, rnf_clf__n_estimators=100, tfidf_vec__min_df=0.05, tsvd_red__n_components=50;, score=(train=nan, test=nan) total time=   0.0s\n",
      "[CV 2/3] END rnf_clf__max_depth=50, rnf_clf__min_samples_leaf=1, rnf_clf__n_estimators=100, tfidf_vec__min_df=0.05, tsvd_red__n_components=50;, score=(train=nan, test=nan) total time=   0.0s\n",
      "[CV 2/3] END rnf_clf__max_depth=50, rnf_clf__min_samples_leaf=1, rnf_clf__n_estimators=100, tfidf_vec__min_df=0.05, tsvd_red__n_components=150;, score=(train=nan, test=nan) total time=   0.0s\n",
      "[CV 3/3] END rnf_clf__max_depth=50, rnf_clf__min_samples_leaf=1, rnf_clf__n_estimators=100, tfidf_vec__min_df=0.05, tsvd_red__n_components=150;, score=(train=nan, test=nan) total time=   0.0s\n",
      "[CV 2/3] END rnf_clf__max_depth=50, rnf_clf__min_samples_leaf=1, rnf_clf__n_estimators=200, tfidf_vec__min_df=0.01, tsvd_red__n_components=150;, score=(train=nan, test=nan) total time=   0.0s\n",
      "[CV 3/3] END rnf_clf__max_depth=50, rnf_clf__min_samples_leaf=1, rnf_clf__n_estimators=200, tfidf_vec__min_df=0.01, tsvd_red__n_components=150;, score=(train=nan, test=nan) total time=   0.1s\n",
      "[CV 1/3] END rnf_clf__max_depth=50, rnf_clf__min_samples_leaf=1, rnf_clf__n_estimators=200, tfidf_vec__min_df=0.05, tsvd_red__n_components=50;, score=(train=nan, test=nan) total time=   0.0s\n",
      "[CV 2/3] END rnf_clf__max_depth=50, rnf_clf__min_samples_leaf=1, rnf_clf__n_estimators=200, tfidf_vec__min_df=0.05, tsvd_red__n_components=50;, score=(train=nan, test=nan) total time=   0.1s\n",
      "[CV 3/3] END rnf_clf__max_depth=50, rnf_clf__min_samples_leaf=1, rnf_clf__n_estimators=200, tfidf_vec__min_df=0.05, tsvd_red__n_components=50;, score=(train=nan, test=nan) total time=   0.0s\n",
      "[CV 1/3] END rnf_clf__max_depth=50, rnf_clf__min_samples_leaf=1, rnf_clf__n_estimators=200, tfidf_vec__min_df=0.05, tsvd_red__n_components=150;, score=(train=nan, test=nan) total time=   0.1s\n",
      "[CV 2/3] END rnf_clf__max_depth=50, rnf_clf__min_samples_leaf=4, rnf_clf__n_estimators=10, tfidf_vec__min_df=0.01, tsvd_red__n_components=150;, score=(train=nan, test=nan) total time=   0.0s\n",
      "[CV 3/3] END rnf_clf__max_depth=50, rnf_clf__min_samples_leaf=4, rnf_clf__n_estimators=10, tfidf_vec__min_df=0.01, tsvd_red__n_components=150;, score=(train=nan, test=nan) total time=   0.0s\n",
      "[CV 3/3] END rnf_clf__max_depth=50, rnf_clf__min_samples_leaf=4, rnf_clf__n_estimators=10, tfidf_vec__min_df=0.05, tsvd_red__n_components=50;, score=(train=nan, test=nan) total time=   0.0s\n",
      "[CV 1/3] END rnf_clf__max_depth=50, rnf_clf__min_samples_leaf=4, rnf_clf__n_estimators=10, tfidf_vec__min_df=0.05, tsvd_red__n_components=150;, score=(train=nan, test=nan) total time=   0.0s\n",
      "[CV 3/3] END rnf_clf__max_depth=50, rnf_clf__min_samples_leaf=4, rnf_clf__n_estimators=100, tfidf_vec__min_df=0.01, tsvd_red__n_components=50;, score=(train=0.993, test=0.957) total time=   0.7s\n",
      "[CV 1/3] END rnf_clf__max_depth=50, rnf_clf__min_samples_leaf=4, rnf_clf__n_estimators=100, tfidf_vec__min_df=0.01, tsvd_red__n_components=150;, score=(train=nan, test=nan) total time=   0.0s\n",
      "[CV 2/3] END rnf_clf__max_depth=50, rnf_clf__min_samples_leaf=10, rnf_clf__n_estimators=10, tfidf_vec__min_df=0.01, tsvd_red__n_components=150;, score=(train=nan, test=nan) total time=   0.0s\n",
      "[CV 3/3] END rnf_clf__max_depth=50, rnf_clf__min_samples_leaf=10, rnf_clf__n_estimators=10, tfidf_vec__min_df=0.01, tsvd_red__n_components=150;, score=(train=nan, test=nan) total time=   0.0s\n",
      "[CV 3/3] END rnf_clf__max_depth=50, rnf_clf__min_samples_leaf=10, rnf_clf__n_estimators=10, tfidf_vec__min_df=0.05, tsvd_red__n_components=50;, score=(train=nan, test=nan) total time=   0.0s\n",
      "[CV 1/3] END rnf_clf__max_depth=50, rnf_clf__min_samples_leaf=10, rnf_clf__n_estimators=10, tfidf_vec__min_df=0.05, tsvd_red__n_components=150;, score=(train=nan, test=nan) total time=   0.0s\n",
      "[CV 1/3] END rnf_clf__max_depth=50, rnf_clf__min_samples_leaf=10, rnf_clf__n_estimators=100, tfidf_vec__min_df=0.01, tsvd_red__n_components=50;, score=(train=0.949, test=0.918) total time=   0.7s\n",
      "[CV 2/3] END rnf_clf__max_depth=50, rnf_clf__min_samples_leaf=10, rnf_clf__n_estimators=100, tfidf_vec__min_df=0.01, tsvd_red__n_components=50;, score=(train=0.961, test=0.913) total time=   0.6s\n"
     ]
    }
   ],
   "source": [
    "new_stopwords = [\"data\",\"create\",\"configure\",\"cluster\"]"
   ]
  },
  {
   "cell_type": "code",
   "execution_count": 24,
   "id": "cf608407-52e2-4ee0-94de-95c909810133",
   "metadata": {},
   "outputs": [],
   "source": [
    "X = df['search_text']\n",
    "y = df['cluster']\n",
    "\n",
    "X_train, X_test, y_train, y_test = train_test_split( X, y, stratify=y, random_state=214 )"
   ]
  },
  {
   "cell_type": "code",
   "execution_count": 25,
   "id": "28355565-79f9-44ae-8dcd-f20a7cbf4a68",
   "metadata": {},
   "outputs": [],
   "source": [
    "y_labels = y_train.unique()\n",
    "y_labels.sort()"
   ]
  },
  {
   "cell_type": "code",
   "execution_count": 26,
   "id": "b9ff22c7-3a8f-465a-a0e3-27d27e45ce5c",
   "metadata": {},
   "outputs": [
    {
     "name": "stdout",
     "output_type": "stream",
     "text": [
      "[Pipeline] ......... (step 1 of 2) Processing tfidf_vec, total=   0.0s\n",
      "UMAP(angular_rp_forest=True, metric='hellinger', verbose=3)\n",
      "Mon Jul 18 18:16:20 2022 Construct fuzzy simplicial set\n",
      "Mon Jul 18 18:16:20 2022 Finding Nearest Neighbors\n",
      "Mon Jul 18 18:16:20 2022 Finished Nearest Neighbor Search\n",
      "Disconnection_distance = 1 has removed 180720 edges.  This is not a problem as no vertices were disconnected.\n",
      "Mon Jul 18 18:16:20 2022 Construct embedding\n"
     ]
    },
    {
     "data": {
      "application/vnd.jupyter.widget-view+json": {
       "model_id": "e2a6c5cc13d3440c9e419678160aca7e",
       "version_major": 2,
       "version_minor": 0
      },
      "text/plain": [
       "Epochs completed:   0%|            0/500 [00:00]"
      ]
     },
     "metadata": {},
     "output_type": "display_data"
    },
    {
     "name": "stdout",
     "output_type": "stream",
     "text": [
      "Mon Jul 18 18:16:24 2022 Finished embedding\n",
      "[Pipeline] .......... (step 2 of 2) Processing umap_red, total=   4.5s\n",
      "CPU times: user 9.92 s, sys: 506 ms, total: 10.4 s\n",
      "Wall time: 4.51 s\n"
     ]
    }
   ],
   "source": [
    "%%time\n",
    "pipe_red = Pipeline( [( \"tfidf_vec\", TfidfVectorizer(min_df=0.05, max_df=0.6,\n",
    "                                                     stop_words=stopwords.words(\"english\")+new_stopwords,\n",
    "                                                     ngram_range=(1,2)\n",
    "                                                     ) ),\n",
    "                      ( \"umap_red\", umap.UMAP(n_neighbors=15, metric='hellinger', verbose=3) ),\n",
    "                      ],\n",
    "                     verbose=3 \n",
    "                    )\n",
    "\n",
    "X_train_2d = pipe_red.fit_transform(X_train)"
   ]
  },
  {
   "cell_type": "code",
   "execution_count": 27,
   "id": "46bc4b73-b62e-405f-b1b0-12ff23f26c69",
   "metadata": {},
   "outputs": [
    {
     "data": {
      "text/plain": [
       "Text(0.5, 1.0, '2D visualization with UMAP')"
      ]
     },
     "execution_count": 27,
     "metadata": {},
     "output_type": "execute_result"
    },
    {
     "data": {
      "image/png": "[encoded data removed]",
      "text/plain": [
       "<Figure size 432x432 with 1 Axes>"
      ]
     },
     "metadata": {
      "needs_background": "light"
     },
     "output_type": "display_data"
    }
   ],
   "source": [
    "X_train_red_df = pd.DataFrame( data={'x':X_train_2d[:,0], 'y':X_train_2d[:,1], 'area':y_train} )\n",
    "labels = y_train.unique()\n",
    "\n",
    "fig, ax = plt.subplots( figsize=(6,6) )\n",
    "\n",
    "ax = sns.scatterplot(data=X_train_red_df, x='x', y='y', hue='area', \n",
    "                     hue_order=labels, \n",
    "                     ax=ax \n",
    "                    )\n",
    "\n",
    "plt.legend(loc = \"upper center\")\n",
    "ax.set_xlabel(\"\")\n",
    "ax.set_ylabel(\"\")\n",
    "\n",
    "ax.set_title(\"2D visualization with UMAP\")"
   ]
  },
  {
   "cell_type": "markdown",
   "id": "18baed4f-07a1-43cc-8862-a49c3a9dcefd",
   "metadata": {},
   "source": [
    "# Classification on TF-IDF & Random Forest Classifier"
   ]
  },
  {
   "cell_type": "code",
   "execution_count": 28,
   "id": "99abbed9-9bba-4f5f-b287-09e3a915caf9",
   "metadata": {},
   "outputs": [],
   "source": [
    "pipe_clf = Pipeline( [( \"tfidf_vec\", TfidfVectorizer( stop_words=stopwords.words(\"english\")+new_stopwords) ),\n",
    "                      ( \"tsvd_red\", TruncatedSVD (random_state=214) ),\n",
    "                      ( \"rnf_clf\", RandomForestClassifier(random_state=214, n_jobs=-1) )\n",
    "                      ] \n",
    "                    )"
   ]
  },
  {
   "cell_type": "code",
   "execution_count": 29,
   "id": "e331eda0-b699-48a9-be8e-964bb4103f04",
   "metadata": {},
   "outputs": [],
   "source": [
    "params = { \n",
    "           \"tfidf_vec__min_df\": [ 0.01, 0.05 ],\n",
    "           \n",
    "           \"tsvd_red__n_components\": [50, 150],\n",
    "           \n",
    "           \"rnf_clf__n_estimators\":[10, 100, 200],\n",
    "           \"rnf_clf__max_depth\":[10, 25, 50],\n",
    "           \"rnf_clf__min_samples_leaf\":[1, 4, 10]\n",
    "          }\n",
    "\n",
    "grid_search = GridSearchCV(pipe_clf, params, cv=3, scoring=\"accuracy\", \n",
    "                           verbose=3, return_train_score=True, n_jobs=-1 )"
   ]
  },
  {
   "cell_type": "code",
   "execution_count": 30,
   "id": "d34a8d71-abbc-4a99-b25a-806fc60c73ee",
   "metadata": {},
   "outputs": [
    {
     "name": "stdout",
     "output_type": "stream",
     "text": [
      "Fitting 3 folds for each of 108 candidates, totalling 324 fits\n",
      "[CV 2/3] END rnf_clf__max_depth=10, rnf_clf__min_samples_leaf=1, rnf_clf__n_estimators=10, tfidf_vec__min_df=0.01, tsvd_red__n_components=50;, score=(train=0.998, test=0.947) total time=   0.1s\n",
      "[CV 2/3] END rnf_clf__max_depth=10, rnf_clf__min_samples_leaf=1, rnf_clf__n_estimators=100, tfidf_vec__min_df=0.05, tsvd_red__n_components=50;, score=(train=nan, test=nan) total time=   0.0s\n",
      "[CV 3/3] END rnf_clf__max_depth=10, rnf_clf__min_samples_leaf=1, rnf_clf__n_estimators=100, tfidf_vec__min_df=0.05, tsvd_red__n_components=150;, score=(train=nan, test=nan) total time=   0.0s\n",
      "[CV 1/3] END rnf_clf__max_depth=10, rnf_clf__min_samples_leaf=1, rnf_clf__n_estimators=200, tfidf_vec__min_df=0.01, tsvd_red__n_components=150;, score=(train=nan, test=nan) total time=   0.0s\n",
      "[CV 1/3] END rnf_clf__max_depth=10, rnf_clf__min_samples_leaf=1, rnf_clf__n_estimators=200, tfidf_vec__min_df=0.05, tsvd_red__n_components=50;, score=(train=nan, test=nan) total time=   0.0s\n",
      "[CV 2/3] END rnf_clf__max_depth=10, rnf_clf__min_samples_leaf=1, rnf_clf__n_estimators=200, tfidf_vec__min_df=0.05, tsvd_red__n_components=50;, score=(train=nan, test=nan) total time=   0.0s\n",
      "[CV 1/3] END rnf_clf__max_depth=10, rnf_clf__min_samples_leaf=1, rnf_clf__n_estimators=200, tfidf_vec__min_df=0.05, tsvd_red__n_components=150;, score=(train=nan, test=nan) total time=   0.0s\n",
      "[CV 3/3] END rnf_clf__max_depth=10, rnf_clf__min_samples_leaf=1, rnf_clf__n_estimators=200, tfidf_vec__min_df=0.05, tsvd_red__n_components=150;, score=(train=nan, test=nan) total time=   0.1s\n",
      "[CV 2/3] END rnf_clf__max_depth=10, rnf_clf__min_samples_leaf=4, rnf_clf__n_estimators=10, tfidf_vec__min_df=0.01, tsvd_red__n_components=50;, score=(train=0.978, test=0.952) total time=   0.1s\n",
      "[CV 1/3] END rnf_clf__max_depth=10, rnf_clf__min_samples_leaf=4, rnf_clf__n_estimators=10, tfidf_vec__min_df=0.05, tsvd_red__n_components=50;, score=(train=nan, test=nan) total time=   0.1s\n",
      "[CV 1/3] END rnf_clf__max_depth=10, rnf_clf__min_samples_leaf=4, rnf_clf__n_estimators=100, tfidf_vec__min_df=0.01, tsvd_red__n_components=150;, score=(train=nan, test=nan) total time=   0.0s\n",
      "[CV 3/3] END rnf_clf__max_depth=10, rnf_clf__min_samples_leaf=4, rnf_clf__n_estimators=100, tfidf_vec__min_df=0.01, tsvd_red__n_components=150;, score=(train=nan, test=nan) total time=   0.0s\n",
      "[CV 1/3] END rnf_clf__max_depth=10, rnf_clf__min_samples_leaf=4, rnf_clf__n_estimators=100, tfidf_vec__min_df=0.05, tsvd_red__n_components=50;, score=(train=nan, test=nan) total time=   0.0s\n",
      "[CV 3/3] END rnf_clf__max_depth=10, rnf_clf__min_samples_leaf=4, rnf_clf__n_estimators=100, tfidf_vec__min_df=0.05, tsvd_red__n_components=50;, score=(train=nan, test=nan) total time=   0.1s\n",
      "[CV 1/3] END rnf_clf__max_depth=10, rnf_clf__min_samples_leaf=4, rnf_clf__n_estimators=200, tfidf_vec__min_df=0.01, tsvd_red__n_components=50;, score=(train=1.000, test=0.942) total time=   1.4s\n",
      "[CV 1/3] END rnf_clf__max_depth=10, rnf_clf__min_samples_leaf=10, rnf_clf__n_estimators=200, tfidf_vec__min_df=0.01, tsvd_red__n_components=150;, score=(train=nan, test=nan) total time=   0.0s\n",
      "[CV 3/3] END rnf_clf__max_depth=10, rnf_clf__min_samples_leaf=10, rnf_clf__n_estimators=200, tfidf_vec__min_df=0.01, tsvd_red__n_components=150;, score=(train=nan, test=nan) total time=   0.0s\n",
      "[CV 2/3] END rnf_clf__max_depth=10, rnf_clf__min_samples_leaf=10, rnf_clf__n_estimators=200, tfidf_vec__min_df=0.05, tsvd_red__n_components=50;, score=(train=nan, test=nan) total time=   0.0s\n",
      "[CV 1/3] END rnf_clf__max_depth=25, rnf_clf__min_samples_leaf=1, rnf_clf__n_estimators=10, tfidf_vec__min_df=0.01, tsvd_red__n_components=50;, score=(train=1.000, test=0.942) total time=   0.2s\n",
      "[CV 2/3] END rnf_clf__max_depth=25, rnf_clf__min_samples_leaf=1, rnf_clf__n_estimators=10, tfidf_vec__min_df=0.01, tsvd_red__n_components=50;, score=(train=0.998, test=0.947) total time=   0.1s\n",
      "[CV 1/3] END rnf_clf__max_depth=25, rnf_clf__min_samples_leaf=1, rnf_clf__n_estimators=200, tfidf_vec__min_df=0.01, tsvd_red__n_components=50;, score=(train=1.000, test=0.952) total time=   1.3s\n",
      "[CV 2/3] END rnf_clf__max_depth=25, rnf_clf__min_samples_leaf=1, rnf_clf__n_estimators=200, tfidf_vec__min_df=0.01, tsvd_red__n_components=50;, score=(train=1.000, test=0.952) total time=   1.0s\n",
      "[CV 3/3] END rnf_clf__max_depth=50, rnf_clf__min_samples_leaf=1, rnf_clf__n_estimators=10, tfidf_vec__min_df=0.05, tsvd_red__n_components=50;, score=(train=nan, test=nan) total time=   0.0s\n",
      "[CV 1/3] END rnf_clf__max_depth=50, rnf_clf__min_samples_leaf=1, rnf_clf__n_estimators=10, tfidf_vec__min_df=0.05, tsvd_red__n_components=150;, score=(train=nan, test=nan) total time=   0.0s\n",
      "[CV 2/3] END rnf_clf__max_depth=50, rnf_clf__min_samples_leaf=1, rnf_clf__n_estimators=10, tfidf_vec__min_df=0.05, tsvd_red__n_components=150;, score=(train=nan, test=nan) total time=   0.0s\n",
      "[CV 3/3] END rnf_clf__max_depth=50, rnf_clf__min_samples_leaf=1, rnf_clf__n_estimators=10, tfidf_vec__min_df=0.05, tsvd_red__n_components=150;, score=(train=nan, test=nan) total time=   0.1s\n",
      "[CV 3/3] END rnf_clf__max_depth=50, rnf_clf__min_samples_leaf=1, rnf_clf__n_estimators=100, tfidf_vec__min_df=0.01, tsvd_red__n_components=50;, score=(train=1.000, test=0.966) total time=   0.5s\n",
      "[CV 1/3] END rnf_clf__max_depth=50, rnf_clf__min_samples_leaf=1, rnf_clf__n_estimators=100, tfidf_vec__min_df=0.01, tsvd_red__n_components=150;, score=(train=nan, test=nan) total time=   0.0s\n",
      "[CV 1/3] END rnf_clf__max_depth=50, rnf_clf__min_samples_leaf=4, rnf_clf__n_estimators=10, tfidf_vec__min_df=0.05, tsvd_red__n_components=50;, score=(train=nan, test=nan) total time=   0.0s\n",
      "[CV 2/3] END rnf_clf__max_depth=50, rnf_clf__min_samples_leaf=4, rnf_clf__n_estimators=10, tfidf_vec__min_df=0.05, tsvd_red__n_components=50;, score=(train=nan, test=nan) total time=   0.0s\n",
      "[CV 2/3] END rnf_clf__max_depth=50, rnf_clf__min_samples_leaf=4, rnf_clf__n_estimators=10, tfidf_vec__min_df=0.05, tsvd_red__n_components=150;, score=(train=nan, test=nan) total time=   0.0s\n",
      "[CV 3/3] END rnf_clf__max_depth=50, rnf_clf__min_samples_leaf=4, rnf_clf__n_estimators=10, tfidf_vec__min_df=0.05, tsvd_red__n_components=150;, score=(train=nan, test=nan) total time=   0.1s\n",
      "[CV 2/3] END rnf_clf__max_depth=50, rnf_clf__min_samples_leaf=4, rnf_clf__n_estimators=100, tfidf_vec__min_df=0.01, tsvd_red__n_components=150;, score=(train=nan, test=nan) total time=   0.1s\n",
      "[CV 3/3] END rnf_clf__max_depth=50, rnf_clf__min_samples_leaf=4, rnf_clf__n_estimators=100, tfidf_vec__min_df=0.01, tsvd_red__n_components=150;, score=(train=nan, test=nan) total time=   0.0s\n",
      "[CV 1/3] END rnf_clf__max_depth=50, rnf_clf__min_samples_leaf=4, rnf_clf__n_estimators=100, tfidf_vec__min_df=0.05, tsvd_red__n_components=50;, score=(train=nan, test=nan) total time=   0.0s\n",
      "[CV 2/3] END rnf_clf__max_depth=50, rnf_clf__min_samples_leaf=4, rnf_clf__n_estimators=100, tfidf_vec__min_df=0.05, tsvd_red__n_components=50;, score=(train=nan, test=nan) total time=   0.0s\n",
      "[CV 2/3] END rnf_clf__max_depth=50, rnf_clf__min_samples_leaf=4, rnf_clf__n_estimators=100, tfidf_vec__min_df=0.05, tsvd_red__n_components=150;, score=(train=nan, test=nan) total time=   0.1s\n",
      "[CV 3/3] END rnf_clf__max_depth=50, rnf_clf__min_samples_leaf=4, rnf_clf__n_estimators=100, tfidf_vec__min_df=0.05, tsvd_red__n_components=150;, score=(train=nan, test=nan) total time=   0.1s\n",
      "[CV 2/3] END rnf_clf__max_depth=50, rnf_clf__min_samples_leaf=4, rnf_clf__n_estimators=200, tfidf_vec__min_df=0.01, tsvd_red__n_components=150;, score=(train=nan, test=nan) total time=   0.0s\n",
      "[CV 3/3] END rnf_clf__max_depth=50, rnf_clf__min_samples_leaf=4, rnf_clf__n_estimators=200, tfidf_vec__min_df=0.01, tsvd_red__n_components=150;, score=(train=nan, test=nan) total time=   0.1s\n",
      "[CV 3/3] END rnf_clf__max_depth=50, rnf_clf__min_samples_leaf=4, rnf_clf__n_estimators=200, tfidf_vec__min_df=0.05, tsvd_red__n_components=50;, score=(train=nan, test=nan) total time=   0.0s\n",
      "[CV 1/3] END rnf_clf__max_depth=50, rnf_clf__min_samples_leaf=4, rnf_clf__n_estimators=200, tfidf_vec__min_df=0.05, tsvd_red__n_components=150;, score=(train=nan, test=nan) total time=   0.0s\n",
      "[CV 1/3] END rnf_clf__max_depth=50, rnf_clf__min_samples_leaf=10, rnf_clf__n_estimators=10, tfidf_vec__min_df=0.01, tsvd_red__n_components=50;, score=(train=0.949, test=0.923) total time=   0.1s\n",
      "[CV 2/3] END rnf_clf__max_depth=50, rnf_clf__min_samples_leaf=10, rnf_clf__n_estimators=10, tfidf_vec__min_df=0.01, tsvd_red__n_components=50;, score=(train=0.947, test=0.938) total time=   0.1s\n",
      "[CV 1/3] END rnf_clf__max_depth=50, rnf_clf__min_samples_leaf=10, rnf_clf__n_estimators=100, tfidf_vec__min_df=0.05, tsvd_red__n_components=50;, score=(train=nan, test=nan) total time=   0.2s\n",
      "[CV 2/3] END rnf_clf__max_depth=50, rnf_clf__min_samples_leaf=10, rnf_clf__n_estimators=100, tfidf_vec__min_df=0.05, tsvd_red__n_components=50;, score=(train=nan, test=nan) total time=   0.0s\n",
      "[CV 1/3] END rnf_clf__max_depth=50, rnf_clf__min_samples_leaf=10, rnf_clf__n_estimators=200, tfidf_vec__min_df=0.01, tsvd_red__n_components=50;, score=(train=0.957, test=0.918) total time=   1.0s\n",
      "[CV 1/3] END rnf_clf__max_depth=10, rnf_clf__min_samples_leaf=1, rnf_clf__n_estimators=10, tfidf_vec__min_df=0.01, tsvd_red__n_components=50;, score=(train=1.000, test=0.942) total time=   0.1s\n",
      "[CV 3/3] END rnf_clf__max_depth=10, rnf_clf__min_samples_leaf=1, rnf_clf__n_estimators=10, tfidf_vec__min_df=0.01, tsvd_red__n_components=50;, score=(train=1.000, test=0.947) total time=   0.1s\n",
      "[CV 1/3] END rnf_clf__max_depth=10, rnf_clf__min_samples_leaf=1, rnf_clf__n_estimators=10, tfidf_vec__min_df=0.01, tsvd_red__n_components=150;, score=(train=nan, test=nan) total time=   0.0s\n",
      "[CV 3/3] END rnf_clf__max_depth=10, rnf_clf__min_samples_leaf=1, rnf_clf__n_estimators=10, tfidf_vec__min_df=0.01, tsvd_red__n_components=150;, score=(train=nan, test=nan) total time=   0.0s\n",
      "[CV 2/3] END rnf_clf__max_depth=10, rnf_clf__min_samples_leaf=1, rnf_clf__n_estimators=10, tfidf_vec__min_df=0.05, tsvd_red__n_components=50;, score=(train=nan, test=nan) total time=   0.0s\n",
      "[CV 1/3] END rnf_clf__max_depth=10, rnf_clf__min_samples_leaf=1, rnf_clf__n_estimators=10, tfidf_vec__min_df=0.05, tsvd_red__n_components=150;, score=(train=nan, test=nan) total time=   0.0s\n",
      "[CV 3/3] END rnf_clf__max_depth=10, rnf_clf__min_samples_leaf=1, rnf_clf__n_estimators=10, tfidf_vec__min_df=0.05, tsvd_red__n_components=150;, score=(train=nan, test=nan) total time=   0.0s\n",
      "[CV 2/3] END rnf_clf__max_depth=10, rnf_clf__min_samples_leaf=1, rnf_clf__n_estimators=100, tfidf_vec__min_df=0.01, tsvd_red__n_components=50;, score=(train=1.000, test=0.957) total time=   0.3s\n",
      "[CV 1/3] END rnf_clf__max_depth=10, rnf_clf__min_samples_leaf=1, rnf_clf__n_estimators=100, tfidf_vec__min_df=0.01, tsvd_red__n_components=150;, score=(train=nan, test=nan) total time=   0.0s\n",
      "[CV 2/3] END rnf_clf__max_depth=10, rnf_clf__min_samples_leaf=1, rnf_clf__n_estimators=100, tfidf_vec__min_df=0.01, tsvd_red__n_components=150;, score=(train=nan, test=nan) total time=   0.0s\n",
      "[CV 3/3] END rnf_clf__max_depth=10, rnf_clf__min_samples_leaf=1, rnf_clf__n_estimators=100, tfidf_vec__min_df=0.01, tsvd_red__n_components=150;, score=(train=nan, test=nan) total time=   0.0s\n",
      "[CV 1/3] END rnf_clf__max_depth=10, rnf_clf__min_samples_leaf=1, rnf_clf__n_estimators=100, tfidf_vec__min_df=0.05, tsvd_red__n_components=50;, score=(train=nan, test=nan) total time=   0.0s\n",
      "[CV 2/3] END rnf_clf__max_depth=10, rnf_clf__min_samples_leaf=1, rnf_clf__n_estimators=100, tfidf_vec__min_df=0.05, tsvd_red__n_components=50;, score=(train=nan, test=nan) total time=   0.0s\n",
      "[CV 3/3] END rnf_clf__max_depth=10, rnf_clf__min_samples_leaf=1, rnf_clf__n_estimators=100, tfidf_vec__min_df=0.05, tsvd_red__n_components=50;, score=(train=nan, test=nan) total time=   0.0s\n",
      "[CV 1/3] END rnf_clf__max_depth=10, rnf_clf__min_samples_leaf=1, rnf_clf__n_estimators=100, tfidf_vec__min_df=0.05, tsvd_red__n_components=150;, score=(train=nan, test=nan) total time=   0.0s\n",
      "[CV 2/3] END rnf_clf__max_depth=10, rnf_clf__min_samples_leaf=1, rnf_clf__n_estimators=100, tfidf_vec__min_df=0.05, tsvd_red__n_components=150;, score=(train=nan, test=nan) total time=   0.0s\n",
      "[CV 3/3] END rnf_clf__max_depth=10, rnf_clf__min_samples_leaf=1, rnf_clf__n_estimators=100, tfidf_vec__min_df=0.05, tsvd_red__n_components=150;, score=(train=nan, test=nan) total time=   0.0s\n",
      "[CV 1/3] END rnf_clf__max_depth=10, rnf_clf__min_samples_leaf=1, rnf_clf__n_estimators=200, tfidf_vec__min_df=0.01, tsvd_red__n_components=50;, score=(train=1.000, test=0.947) total time=   0.6s\n",
      "[CV 2/3] END rnf_clf__max_depth=10, rnf_clf__min_samples_leaf=1, rnf_clf__n_estimators=200, tfidf_vec__min_df=0.01, tsvd_red__n_components=50;, score=(train=1.000, test=0.957) total time=   0.5s\n",
      "[CV 3/3] END rnf_clf__max_depth=10, rnf_clf__min_samples_leaf=4, rnf_clf__n_estimators=100, tfidf_vec__min_df=0.01, tsvd_red__n_components=50;, score=(train=0.993, test=0.957) total time=   0.3s\n",
      "[CV 1/3] END rnf_clf__max_depth=10, rnf_clf__min_samples_leaf=4, rnf_clf__n_estimators=100, tfidf_vec__min_df=0.01, tsvd_red__n_components=150;, score=(train=nan, test=nan) total time=   0.0s\n",
      "[CV 2/3] END rnf_clf__max_depth=10, rnf_clf__min_samples_leaf=4, rnf_clf__n_estimators=100, tfidf_vec__min_df=0.01, tsvd_red__n_components=150;, score=(train=nan, test=nan) total time=   0.0s\n",
      "[CV 3/3] END rnf_clf__max_depth=10, rnf_clf__min_samples_leaf=4, rnf_clf__n_estimators=100, tfidf_vec__min_df=0.01, tsvd_red__n_components=150;, score=(train=nan, test=nan) total time=   0.0s\n",
      "[CV 1/3] END rnf_clf__max_depth=10, rnf_clf__min_samples_leaf=4, rnf_clf__n_estimators=100, tfidf_vec__min_df=0.05, tsvd_red__n_components=50;, score=(train=nan, test=nan) total time=   0.0s\n",
      "[CV 2/3] END rnf_clf__max_depth=10, rnf_clf__min_samples_leaf=4, rnf_clf__n_estimators=100, tfidf_vec__min_df=0.05, tsvd_red__n_components=50;, score=(train=nan, test=nan) total time=   0.0s\n",
      "[CV 3/3] END rnf_clf__max_depth=10, rnf_clf__min_samples_leaf=4, rnf_clf__n_estimators=100, tfidf_vec__min_df=0.05, tsvd_red__n_components=50;, score=(train=nan, test=nan) total time=   0.0s\n",
      "[CV 1/3] END rnf_clf__max_depth=10, rnf_clf__min_samples_leaf=4, rnf_clf__n_estimators=100, tfidf_vec__min_df=0.05, tsvd_red__n_components=150;, score=(train=nan, test=nan) total time=   0.0s\n",
      "[CV 2/3] END rnf_clf__max_depth=10, rnf_clf__min_samples_leaf=4, rnf_clf__n_estimators=100, tfidf_vec__min_df=0.05, tsvd_red__n_components=150;, score=(train=nan, test=nan) total time=   0.0s\n",
      "[CV 3/3] END rnf_clf__max_depth=10, rnf_clf__min_samples_leaf=4, rnf_clf__n_estimators=100, tfidf_vec__min_df=0.05, tsvd_red__n_components=150;, score=(train=nan, test=nan) total time=   0.0s\n",
      "[CV 1/3] END rnf_clf__max_depth=10, rnf_clf__min_samples_leaf=4, rnf_clf__n_estimators=200, tfidf_vec__min_df=0.01, tsvd_red__n_components=50;, score=(train=1.000, test=0.942) total time=   0.5s\n",
      "[CV 2/3] END rnf_clf__max_depth=10, rnf_clf__min_samples_leaf=4, rnf_clf__n_estimators=200, tfidf_vec__min_df=0.01, tsvd_red__n_components=50;, score=(train=0.983, test=0.942) total time=   0.6s\n",
      "[CV 3/3] END rnf_clf__max_depth=10, rnf_clf__min_samples_leaf=10, rnf_clf__n_estimators=100, tfidf_vec__min_df=0.01, tsvd_red__n_components=50;, score=(train=0.964, test=0.957) total time=   0.3s\n",
      "[CV 1/3] END rnf_clf__max_depth=10, rnf_clf__min_samples_leaf=10, rnf_clf__n_estimators=100, tfidf_vec__min_df=0.01, tsvd_red__n_components=150;, score=(train=nan, test=nan) total time=   0.0s\n",
      "[CV 2/3] END rnf_clf__max_depth=10, rnf_clf__min_samples_leaf=10, rnf_clf__n_estimators=100, tfidf_vec__min_df=0.01, tsvd_red__n_components=150;, score=(train=nan, test=nan) total time=   0.0s\n",
      "[CV 3/3] END rnf_clf__max_depth=10, rnf_clf__min_samples_leaf=10, rnf_clf__n_estimators=100, tfidf_vec__min_df=0.01, tsvd_red__n_components=150;, score=(train=nan, test=nan) total time=   0.0s\n",
      "[CV 1/3] END rnf_clf__max_depth=10, rnf_clf__min_samples_leaf=10, rnf_clf__n_estimators=100, tfidf_vec__min_df=0.05, tsvd_red__n_components=50;, score=(train=nan, test=nan) total time=   0.0s\n",
      "[CV 2/3] END rnf_clf__max_depth=10, rnf_clf__min_samples_leaf=10, rnf_clf__n_estimators=100, tfidf_vec__min_df=0.05, tsvd_red__n_components=50;, score=(train=nan, test=nan) total time=   0.0s\n"
     ]
    },
    {
     "name": "stderr",
     "output_type": "stream",
     "text": [
      "/Users/ankush.singal/opt/anaconda3/lib/python3.9/site-packages/sklearn/model_selection/_validation.py:372: FitFailedWarning: \n",
      "243 fits failed out of a total of 324.\n",
      "The score on these train-test partitions for these parameters will be set to nan.\n",
      "If these failures are not expected, you can try to debug them by setting error_score='raise'.\n",
      "\n",
      "Below are more details about the failures:\n",
      "--------------------------------------------------------------------------------\n",
      "27 fits failed with the following error:\n",
      "Traceback (most recent call last):\n",
      "  File \"/Users/ankush.singal/opt/anaconda3/lib/python3.9/site-packages/sklearn/model_selection/_validation.py\", line 680, in _fit_and_score\n",
      "    estimator.fit(X_train, y_train, **fit_params)\n",
      "  File \"/Users/ankush.singal/opt/anaconda3/lib/python3.9/site-packages/sklearn/pipeline.py\", line 390, in fit\n",
      "    Xt = self._fit(X, y, **fit_params_steps)\n",
      "  File \"/Users/ankush.singal/opt/anaconda3/lib/python3.9/site-packages/sklearn/pipeline.py\", line 348, in _fit\n",
      "    X, fitted_transformer = fit_transform_one_cached(\n",
      "  File \"/Users/ankush.singal/opt/anaconda3/lib/python3.9/site-packages/joblib/memory.py\", line 349, in __call__\n",
      "    return self.func(*args, **kwargs)\n",
      "  File \"/Users/ankush.singal/opt/anaconda3/lib/python3.9/site-packages/sklearn/pipeline.py\", line 893, in _fit_transform_one\n",
      "    res = transformer.fit_transform(X, y, **fit_params)\n",
      "  File \"/Users/ankush.singal/opt/anaconda3/lib/python3.9/site-packages/sklearn/decomposition/_truncated_svd.py\", line 207, in fit_transform\n",
      "    raise ValueError(\n",
      "ValueError: n_components must be < n_features; got 150 >= 93\n",
      "\n",
      "--------------------------------------------------------------------------------\n",
      "27 fits failed with the following error:\n",
      "Traceback (most recent call last):\n",
      "  File \"/Users/ankush.singal/opt/anaconda3/lib/python3.9/site-packages/sklearn/model_selection/_validation.py\", line 680, in _fit_and_score\n",
      "    estimator.fit(X_train, y_train, **fit_params)\n",
      "  File \"/Users/ankush.singal/opt/anaconda3/lib/python3.9/site-packages/sklearn/pipeline.py\", line 390, in fit\n",
      "    Xt = self._fit(X, y, **fit_params_steps)\n",
      "  File \"/Users/ankush.singal/opt/anaconda3/lib/python3.9/site-packages/sklearn/pipeline.py\", line 348, in _fit\n",
      "    X, fitted_transformer = fit_transform_one_cached(\n",
      "  File \"/Users/ankush.singal/opt/anaconda3/lib/python3.9/site-packages/joblib/memory.py\", line 349, in __call__\n",
      "    return self.func(*args, **kwargs)\n",
      "  File \"/Users/ankush.singal/opt/anaconda3/lib/python3.9/site-packages/sklearn/pipeline.py\", line 893, in _fit_transform_one\n",
      "    res = transformer.fit_transform(X, y, **fit_params)\n",
      "  File \"/Users/ankush.singal/opt/anaconda3/lib/python3.9/site-packages/sklearn/decomposition/_truncated_svd.py\", line 207, in fit_transform\n",
      "    raise ValueError(\n",
      "ValueError: n_components must be < n_features; got 150 >= 92\n",
      "\n",
      "--------------------------------------------------------------------------------\n",
      "27 fits failed with the following error:\n",
      "Traceback (most recent call last):\n",
      "  File \"/Users/ankush.singal/opt/anaconda3/lib/python3.9/site-packages/sklearn/model_selection/_validation.py\", line 680, in _fit_and_score\n",
      "    estimator.fit(X_train, y_train, **fit_params)\n",
      "  File \"/Users/ankush.singal/opt/anaconda3/lib/python3.9/site-packages/sklearn/pipeline.py\", line 390, in fit\n",
      "    Xt = self._fit(X, y, **fit_params_steps)\n",
      "  File \"/Users/ankush.singal/opt/anaconda3/lib/python3.9/site-packages/sklearn/pipeline.py\", line 348, in _fit\n",
      "    X, fitted_transformer = fit_transform_one_cached(\n",
      "  File \"/Users/ankush.singal/opt/anaconda3/lib/python3.9/site-packages/joblib/memory.py\", line 349, in __call__\n",
      "    return self.func(*args, **kwargs)\n",
      "  File \"/Users/ankush.singal/opt/anaconda3/lib/python3.9/site-packages/sklearn/pipeline.py\", line 893, in _fit_transform_one\n",
      "    res = transformer.fit_transform(X, y, **fit_params)\n",
      "  File \"/Users/ankush.singal/opt/anaconda3/lib/python3.9/site-packages/sklearn/decomposition/_truncated_svd.py\", line 207, in fit_transform\n",
      "    raise ValueError(\n",
      "ValueError: n_components must be < n_features; got 150 >= 81\n",
      "\n",
      "--------------------------------------------------------------------------------\n",
      "81 fits failed with the following error:\n",
      "Traceback (most recent call last):\n",
      "  File \"/Users/ankush.singal/opt/anaconda3/lib/python3.9/site-packages/sklearn/model_selection/_validation.py\", line 680, in _fit_and_score\n",
      "    estimator.fit(X_train, y_train, **fit_params)\n",
      "  File \"/Users/ankush.singal/opt/anaconda3/lib/python3.9/site-packages/sklearn/pipeline.py\", line 390, in fit\n",
      "    Xt = self._fit(X, y, **fit_params_steps)\n",
      "  File \"/Users/ankush.singal/opt/anaconda3/lib/python3.9/site-packages/sklearn/pipeline.py\", line 348, in _fit\n",
      "    X, fitted_transformer = fit_transform_one_cached(\n",
      "  File \"/Users/ankush.singal/opt/anaconda3/lib/python3.9/site-packages/joblib/memory.py\", line 349, in __call__\n",
      "    return self.func(*args, **kwargs)\n",
      "  File \"/Users/ankush.singal/opt/anaconda3/lib/python3.9/site-packages/sklearn/pipeline.py\", line 893, in _fit_transform_one\n",
      "    res = transformer.fit_transform(X, y, **fit_params)\n",
      "  File \"/Users/ankush.singal/opt/anaconda3/lib/python3.9/site-packages/sklearn/decomposition/_truncated_svd.py\", line 207, in fit_transform\n",
      "    raise ValueError(\n",
      "ValueError: n_components must be < n_features; got 50 >= 5\n",
      "\n",
      "--------------------------------------------------------------------------------\n",
      "81 fits failed with the following error:\n",
      "Traceback (most recent call last):\n",
      "  File \"/Users/ankush.singal/opt/anaconda3/lib/python3.9/site-packages/sklearn/model_selection/_validation.py\", line 680, in _fit_and_score\n",
      "    estimator.fit(X_train, y_train, **fit_params)\n",
      "  File \"/Users/ankush.singal/opt/anaconda3/lib/python3.9/site-packages/sklearn/pipeline.py\", line 390, in fit\n",
      "    Xt = self._fit(X, y, **fit_params_steps)\n",
      "  File \"/Users/ankush.singal/opt/anaconda3/lib/python3.9/site-packages/sklearn/pipeline.py\", line 348, in _fit\n",
      "    X, fitted_transformer = fit_transform_one_cached(\n",
      "  File \"/Users/ankush.singal/opt/anaconda3/lib/python3.9/site-packages/joblib/memory.py\", line 349, in __call__\n",
      "    return self.func(*args, **kwargs)\n",
      "  File \"/Users/ankush.singal/opt/anaconda3/lib/python3.9/site-packages/sklearn/pipeline.py\", line 893, in _fit_transform_one\n",
      "    res = transformer.fit_transform(X, y, **fit_params)\n",
      "  File \"/Users/ankush.singal/opt/anaconda3/lib/python3.9/site-packages/sklearn/decomposition/_truncated_svd.py\", line 207, in fit_transform\n",
      "    raise ValueError(\n",
      "ValueError: n_components must be < n_features; got 150 >= 5\n",
      "\n",
      "  warnings.warn(some_fits_failed_message, FitFailedWarning)\n",
      "/Users/ankush.singal/opt/anaconda3/lib/python3.9/site-packages/sklearn/model_selection/_search.py:969: UserWarning: One or more of the test scores are non-finite: [0.94542766        nan        nan        nan 0.95827914        nan\n",
      "        nan        nan 0.95345596        nan        nan        nan\n",
      " 0.93738387        nan        nan        nan 0.94704571        nan\n",
      "        nan        nan 0.94704571        nan        nan        nan\n",
      " 0.93098136        nan        nan        nan 0.9294175         nan\n",
      "        nan        nan 0.92781494        nan        nan        nan\n",
      " 0.94542766        nan        nan        nan 0.95827914        nan\n",
      "        nan        nan 0.95184566        nan        nan        nan\n",
      " 0.93738387        nan        nan        nan 0.94704571        nan\n",
      "        nan        nan 0.94704571        nan        nan        nan\n",
      " 0.93098136        nan        nan        nan 0.9294175         nan\n",
      "        nan        nan 0.92781494        nan        nan        nan\n",
      " 0.94542766        nan        nan        nan 0.95827914        nan\n",
      "        nan        nan 0.95184566        nan        nan        nan\n",
      " 0.93738387        nan        nan        nan 0.94704571        nan\n",
      "        nan        nan 0.94704571        nan        nan        nan\n",
      " 0.93098136        nan        nan        nan 0.9294175         nan\n",
      "        nan        nan 0.92781494        nan        nan        nan]\n",
      "  warnings.warn(\n",
      "/Users/ankush.singal/opt/anaconda3/lib/python3.9/site-packages/sklearn/model_selection/_search.py:969: UserWarning: One or more of the train scores are non-finite: [0.99919679        nan        nan        nan 1.                nan\n",
      "        nan        nan 1.                nan        nan        nan\n",
      " 0.98314605        nan        nan        nan 0.99036724        nan\n",
      "        nan        nan 0.99197366        nan        nan        nan\n",
      " 0.9542439         nan        nan        nan 0.95826189        nan\n",
      "        nan        nan 0.96227603        nan        nan        nan\n",
      " 0.99919679        nan        nan        nan 1.                nan\n",
      "        nan        nan 1.                nan        nan        nan\n",
      " 0.98314605        nan        nan        nan 0.99036724        nan\n",
      "        nan        nan 0.99197366        nan        nan        nan\n",
      " 0.9542439         nan        nan        nan 0.95826189        nan\n",
      "        nan        nan 0.96227603        nan        nan        nan\n",
      " 0.99919679        nan        nan        nan 1.                nan\n",
      "        nan        nan 1.                nan        nan        nan\n",
      " 0.98314605        nan        nan        nan 0.99036724        nan\n",
      "        nan        nan 0.99197366        nan        nan        nan\n",
      " 0.9542439         nan        nan        nan 0.95826189        nan\n",
      "        nan        nan 0.96227603        nan        nan        nan]\n",
      "  warnings.warn(\n"
     ]
    },
    {
     "data": {
      "text/plain": [
       "GridSearchCV(cv=3,\n",
       "             estimator=Pipeline(steps=[('tfidf_vec',\n",
       "                                        TfidfVectorizer(stop_words=['i', 'me',\n",
       "                                                                    'my',\n",
       "                                                                    'myself',\n",
       "                                                                    'we', 'our',\n",
       "                                                                    'ours',\n",
       "                                                                    'ourselves',\n",
       "                                                                    'you',\n",
       "                                                                    \"you're\",\n",
       "                                                                    \"you've\",\n",
       "                                                                    \"you'll\",\n",
       "                                                                    \"you'd\",\n",
       "                                                                    'your',\n",
       "                                                                    'yours',\n",
       "                                                                    'yourself',\n",
       "                                                                    'yourselves',\n",
       "                                                                    'he', 'him',\n",
       "                                                                    'his',\n",
       "                                                                    'himself',\n",
       "                                                                    'she',\n",
       "                                                                    \"she's\",\n",
       "                                                                    'her',\n",
       "                                                                    'hers',\n",
       "                                                                    'herself',\n",
       "                                                                    'it',\n",
       "                                                                    \"it's\",\n",
       "                                                                    'its',\n",
       "                                                                    'itself', ...])),\n",
       "                                       ('tsvd_red',\n",
       "                                        TruncatedSVD(random_state=214)),\n",
       "                                       ('rnf_clf',\n",
       "                                        RandomForestClassifier(n_jobs=-1,\n",
       "                                                               random_state=214))]),\n",
       "             n_jobs=-1,\n",
       "             param_grid={'rnf_clf__max_depth': [10, 25, 50],\n",
       "                         'rnf_clf__min_samples_leaf': [1, 4, 10],\n",
       "                         'rnf_clf__n_estimators': [10, 100, 200],\n",
       "                         'tfidf_vec__min_df': [0.01, 0.05],\n",
       "                         'tsvd_red__n_components': [50, 150]},\n",
       "             return_train_score=True, scoring='accuracy', verbose=3)"
      ]
     },
     "execution_count": 30,
     "metadata": {},
     "output_type": "execute_result"
    }
   ],
   "source": [
    "grid_search.fit(X_train, y_train)"
   ]
  },
  {
   "cell_type": "code",
   "execution_count": 31,
   "id": "f12a6880-bcd3-4218-8f9d-ec9772abe9c5",
   "metadata": {},
   "outputs": [
    {
     "data": {
      "text/plain": [
       "Pipeline(steps=[('tfidf_vec',\n",
       "                 TfidfVectorizer(min_df=0.01,\n",
       "                                 stop_words=['i', 'me', 'my', 'myself', 'we',\n",
       "                                             'our', 'ours', 'ourselves', 'you',\n",
       "                                             \"you're\", \"you've\", \"you'll\",\n",
       "                                             \"you'd\", 'your', 'yours',\n",
       "                                             'yourself', 'yourselves', 'he',\n",
       "                                             'him', 'his', 'himself', 'she',\n",
       "                                             \"she's\", 'her', 'hers', 'herself',\n",
       "                                             'it', \"it's\", 'its', 'itself', ...])),\n",
       "                ('tsvd_red', TruncatedSVD(n_components=50, random_state=214)),\n",
       "                ('rnf_clf',\n",
       "                 RandomForestClassifier(max_depth=10, n_jobs=-1,\n",
       "                                        random_state=214))])"
      ]
     },
     "execution_count": 31,
     "metadata": {},
     "output_type": "execute_result"
    }
   ],
   "source": [
    "best_model = grid_search.best_estimator_\n",
    "\n",
    "best_model.fit(X_train, y_train)"
   ]
  },
  {
   "cell_type": "code",
   "execution_count": 32,
   "id": "69522477-8735-4064-be67-885f0e733166",
   "metadata": {},
   "outputs": [],
   "source": [
    "y_train_pred = cross_val_predict( best_model, X_train, y_train )"
   ]
  },
  {
   "cell_type": "code",
   "execution_count": 33,
   "id": "3cc2338e-0c7a-47cd-a0d8-11c7627296c4",
   "metadata": {},
   "outputs": [
    {
     "data": {
      "text/plain": [
       "Text(0.5, 1.0, 'Confusion Matrix')"
      ]
     },
     "execution_count": 33,
     "metadata": {},
     "output_type": "execute_result"
    },
    {
     "data": {
      "image/png": "[encoded data removed]",
      "text/plain": [
       "<Figure size 432x432 with 1 Axes>"
      ]
     },
     "metadata": {
      "needs_background": "light"
     },
     "output_type": "display_data"
    }
   ],
   "source": [
    "labels = y_train.unique()\n",
    "confusion_m = confusion_matrix(y_train, y_train_pred, labels=y_labels)\n",
    "\n",
    "fig, ax = plt.subplots( figsize=(6,6) )\n",
    "\n",
    "sns.heatmap(confusion_m, annot=True, fmt='d', \n",
    "            xticklabels=y_labels, yticklabels=y_labels,\n",
    "            cmap='Blues', cbar=False,\n",
    "            ax=ax)\n",
    "\n",
    "ax.set_title(\"Confusion Matrix\")"
   ]
  },
  {
   "cell_type": "code",
   "execution_count": 34,
   "id": "635744ae-b97c-41fd-b7d7-3d8dbfd08b3c",
   "metadata": {},
   "outputs": [
    {
     "name": "stdout",
     "output_type": "stream",
     "text": [
      "              precision    recall  f1-score   support\n",
      "\n",
      "           0       0.96      1.00      0.98       421\n",
      "           1       0.92      0.94      0.93        52\n",
      "           2       0.91      0.91      0.91        35\n",
      "           3       1.00      0.71      0.83        28\n",
      "           4       1.00      0.92      0.96        39\n",
      "           5       0.95      0.91      0.93        22\n",
      "           6       0.95      0.77      0.85        26\n",
      "\n",
      "    accuracy                           0.96       623\n",
      "   macro avg       0.96      0.88      0.91       623\n",
      "weighted avg       0.96      0.96      0.96       623\n",
      "\n"
     ]
    }
   ],
   "source": [
    "print( classification_report(y_train, y_train_pred) )"
   ]
  },
  {
   "cell_type": "markdown",
   "id": "2aec3f82-84d3-423c-9e4d-c1f3bc6f5054",
   "metadata": {},
   "source": [
    "# TEST DATA "
   ]
  },
  {
   "cell_type": "code",
   "execution_count": 35,
   "id": "f2e3ff82-06e4-4273-a3d7-9e7840d45621",
   "metadata": {},
   "outputs": [
    {
     "data": {
      "text/plain": [
       "Text(0.5, 1.0, 'Confusion Matrix\\ndas áreas (teste)')"
      ]
     },
     "execution_count": 35,
     "metadata": {},
     "output_type": "execute_result"
    },
    {
     "data": {
      "image/png": "[encoded data removed]",
      "text/plain": [
       "<Figure size 432x432 with 1 Axes>"
      ]
     },
     "metadata": {
      "needs_background": "light"
     },
     "output_type": "display_data"
    }
   ],
   "source": [
    "y_test_pred=best_model.predict(X_test)\n",
    "confusion_m = confusion_matrix(y_test, y_test_pred, labels=y_labels)\n",
    "\n",
    "fig, ax = plt.subplots( figsize=(6,6) )\n",
    "\n",
    "sns.heatmap(confusion_m, annot=True, fmt='d', \n",
    "            xticklabels=y_labels, yticklabels=y_labels,\n",
    "            cmap='Blues', cbar=False,\n",
    "            ax=ax)\n",
    "\n",
    "ax.set_title(\"Confusion Matrix\\ndas áreas (teste)\")"
   ]
  },
  {
   "cell_type": "code",
   "execution_count": 38,
   "id": "31208863-ad92-4b4d-9124-b7da81006194",
   "metadata": {},
   "outputs": [
    {
     "name": "stdout",
     "output_type": "stream",
     "text": [
      "              precision    recall  f1-score   support\n",
      "\n",
      "           0       0.99      0.97      0.98       140\n",
      "           1       0.85      1.00      0.92        17\n",
      "           2       0.92      1.00      0.96        12\n",
      "           3       1.00      0.70      0.82        10\n",
      "           4       0.93      1.00      0.96        13\n",
      "           5       0.78      1.00      0.88         7\n",
      "           6       1.00      0.78      0.88         9\n",
      "\n",
      "    accuracy                           0.96       208\n",
      "   macro avg       0.92      0.92      0.91       208\n",
      "weighted avg       0.96      0.96      0.96       208\n",
      "\n"
     ]
    }
   ],
   "source": [
    "print( classification_report(y_test, y_test_pred) )"
   ]
  },
  {
   "cell_type": "code",
   "execution_count": 40,
   "id": "2cfa205d-b7f4-4b2f-aa57-2b34c8f094f1",
   "metadata": {},
   "outputs": [],
   "source": [
    "titles = [\"Unable to access Azure Databricks workspace\",\n",
    "         \"Recover Databricks workspace\"\n",
    "         ]\n",
    "y_predicts = best_model.predict(titles)\n",
    "y_predicts_proba = best_model.predict_proba(titles)"
   ]
  },
  {
   "cell_type": "code",
   "execution_count": 41,
   "id": "1f81848f-ba99-4f08-9bae-f544ba6d9256",
   "metadata": {},
   "outputs": [
    {
     "name": "stdout",
     "output_type": "stream",
     "text": [
      "(3) Unable to access Azure Databricks workspace\n",
      "0 - 0.12; 1 - 0.22; 2 - 0.04; 3 - 0.58; 4 - 0.03; 5 - 0.00; 6 - 0.00; \n",
      "\n",
      "(1) Recover Databricks workspace\n",
      "0 - 0.03; 1 - 0.91; 2 - 0.02; 3 - 0.03; 4 - 0.00; 5 - 0.01; 6 - 0.01; \n",
      "\n"
     ]
    }
   ],
   "source": [
    "for text, y_predict, probas in zip( titles, y_predicts, y_predicts_proba ):\n",
    "    print(f\"({y_predict}) {text}\")\n",
    "\n",
    "    for proba, label in zip(probas, y_labels):\n",
    "        print(f\"{label} - {proba:.2f};\", end=\" \")\n",
    "    print(\"\\n\")"
   ]
  },
  {
   "cell_type": "code",
   "execution_count": null,
   "id": "905f65d7-cf81-4e55-b72d-276f504ab430",
   "metadata": {},
   "outputs": [],
   "source": []
  },
  {
   "cell_type": "code",
   "execution_count": null,
   "id": "b906dc2c-d0f8-482c-913e-48dbe959a634",
   "metadata": {},
   "outputs": [],
   "source": []
  }
 ],
 "metadata": {
  "kernelspec": {
   "display_name": "Python 3 (ipykernel)",
   "language": "python",
   "name": "python3"
  },
  "language_info": {
   "codemirror_mode": {
    "name": "ipython",
    "version": 3
   },
   "file_extension": ".py",
   "mimetype": "text/x-python",
   "name": "python",
   "nbconvert_exporter": "python",
   "pygments_lexer": "ipython3",
   "version": "3.9.12"
  }
 },
 "nbformat": 4,
 "nbformat_minor": 5
}
