{
 "cells": [
  {
   "cell_type": "code",
   "execution_count": 236,
   "id": "197156ff",
   "metadata": {},
   "outputs": [],
   "source": [
    "import pandas as pd\n",
    "import numpy as np\n",
    "import matplotlib.pyplot as plt \n",
    "\n",
    "from nltk.corpus import stopwords\n",
    " \n",
    "stopwords = stopwords.words('english')"
   ]
  },
  {
   "cell_type": "code",
   "execution_count": 272,
   "id": "1da6f0b0",
   "metadata": {},
   "outputs": [],
   "source": [
    "def load_data():   #load the data \n",
    "    df_all = pd.read_csv('sessionsDetails_2022-6-27-1656313280070.csv')\n",
    "    # Take a subset\n",
    "    return df_all.loc[:, [\"Session Identifier\",\"Searches\",\"Clicks\",\"Cases Logged\",'Support Visit','Session Start Time','Session last Activity Time',\"Activity Type\",\"Activity Detail\",\"Internal/External\",\"Activity Additional Detail\",\"Search Result Count\",\"Activity Time\"]]\n",
    "data = load_data()\n"
   ]
  },
  {
   "cell_type": "code",
   "execution_count": 273,
   "id": "5a6e4da3",
   "metadata": {},
   "outputs": [
    {
     "data": {
      "text/html": [
       "<div>\n",
       "<style scoped>\n",
       "    .dataframe tbody tr th:only-of-type {\n",
       "        vertical-align: middle;\n",
       "    }\n",
       "\n",
       "    .dataframe tbody tr th {\n",
       "        vertical-align: top;\n",
       "    }\n",
       "\n",
       "    .dataframe thead th {\n",
       "        text-align: right;\n",
       "    }\n",
       "</style>\n",
       "<table border=\"1\" class=\"dataframe\">\n",
       "  <thead>\n",
       "    <tr style=\"text-align: right;\">\n",
       "      <th></th>\n",
       "      <th>Session Identifier</th>\n",
       "      <th>Searches</th>\n",
       "      <th>Clicks</th>\n",
       "      <th>Cases Logged</th>\n",
       "      <th>Support Visit</th>\n",
       "      <th>Session Start Time</th>\n",
       "      <th>Session last Activity Time</th>\n",
       "      <th>Activity Type</th>\n",
       "      <th>Activity Detail</th>\n",
       "      <th>Internal/External</th>\n",
       "      <th>Activity Additional Detail</th>\n",
       "      <th>Search Result Count</th>\n",
       "      <th>Activity Time</th>\n",
       "    </tr>\n",
       "  </thead>\n",
       "  <tbody>\n",
       "    <tr>\n",
       "      <th>0</th>\n",
       "      <td>1656287112905670</td>\n",
       "      <td>0</td>\n",
       "      <td>0</td>\n",
       "      <td>0</td>\n",
       "      <td>Visited Support</td>\n",
       "      <td>06/27/2022 05:15:19</td>\n",
       "      <td>06/27/2022 05:51:11</td>\n",
       "      <td>Viewed Page</td>\n",
       "      <td>Ticket Detail</td>\n",
       "      <td>External</td>\n",
       "      <td>https://help.databricks.com/s/case/5008Y00001v...</td>\n",
       "      <td>NaN</td>\n",
       "      <td>06/27/2022 05:51:11</td>\n",
       "    </tr>\n",
       "    <tr>\n",
       "      <th>1</th>\n",
       "      <td>1656287112905670</td>\n",
       "      <td>0</td>\n",
       "      <td>0</td>\n",
       "      <td>0</td>\n",
       "      <td>Visited Support</td>\n",
       "      <td>06/27/2022 05:15:19</td>\n",
       "      <td>06/27/2022 05:51:11</td>\n",
       "      <td>Viewed Page</td>\n",
       "      <td>Ticket Listing</td>\n",
       "      <td>External</td>\n",
       "      <td>https://help.databricks.com/s/Ticket-Listing</td>\n",
       "      <td>NaN</td>\n",
       "      <td>06/27/2022 05:49:47</td>\n",
       "    </tr>\n",
       "    <tr>\n",
       "      <th>2</th>\n",
       "      <td>1656287112905670</td>\n",
       "      <td>0</td>\n",
       "      <td>0</td>\n",
       "      <td>0</td>\n",
       "      <td>Visited Support</td>\n",
       "      <td>06/27/2022 05:15:19</td>\n",
       "      <td>06/27/2022 05:51:11</td>\n",
       "      <td>Viewed Page</td>\n",
       "      <td>Ticket Detail</td>\n",
       "      <td>External</td>\n",
       "      <td>https://help.databricks.com/s/case/5008Y00001v...</td>\n",
       "      <td>NaN</td>\n",
       "      <td>06/27/2022 05:39:11</td>\n",
       "    </tr>\n",
       "    <tr>\n",
       "      <th>3</th>\n",
       "      <td>1656287112905670</td>\n",
       "      <td>0</td>\n",
       "      <td>0</td>\n",
       "      <td>0</td>\n",
       "      <td>Visited Support</td>\n",
       "      <td>06/27/2022 05:15:19</td>\n",
       "      <td>06/27/2022 05:51:11</td>\n",
       "      <td>Viewed Page</td>\n",
       "      <td>Ticket Listing</td>\n",
       "      <td>External</td>\n",
       "      <td>https://help.databricks.com/s/Ticket-Listing</td>\n",
       "      <td>NaN</td>\n",
       "      <td>06/27/2022 05:39:05</td>\n",
       "    </tr>\n",
       "    <tr>\n",
       "      <th>4</th>\n",
       "      <td>1656287112905670</td>\n",
       "      <td>0</td>\n",
       "      <td>0</td>\n",
       "      <td>0</td>\n",
       "      <td>Visited Support</td>\n",
       "      <td>06/27/2022 05:15:19</td>\n",
       "      <td>06/27/2022 05:51:11</td>\n",
       "      <td>Visited Support</td>\n",
       "      <td>Get Support</td>\n",
       "      <td>External</td>\n",
       "      <td>https://help.databricks.com/s/submitrequest</td>\n",
       "      <td>NaN</td>\n",
       "      <td>06/27/2022 05:39:02</td>\n",
       "    </tr>\n",
       "  </tbody>\n",
       "</table>\n",
       "</div>"
      ],
      "text/plain": [
       "   Session Identifier  Searches  Clicks  Cases Logged    Support Visit  \\\n",
       "0    1656287112905670         0       0             0  Visited Support   \n",
       "1    1656287112905670         0       0             0  Visited Support   \n",
       "2    1656287112905670         0       0             0  Visited Support   \n",
       "3    1656287112905670         0       0             0  Visited Support   \n",
       "4    1656287112905670         0       0             0  Visited Support   \n",
       "\n",
       "    Session Start Time Session last Activity Time    Activity Type  \\\n",
       "0  06/27/2022 05:15:19        06/27/2022 05:51:11      Viewed Page   \n",
       "1  06/27/2022 05:15:19        06/27/2022 05:51:11      Viewed Page   \n",
       "2  06/27/2022 05:15:19        06/27/2022 05:51:11      Viewed Page   \n",
       "3  06/27/2022 05:15:19        06/27/2022 05:51:11      Viewed Page   \n",
       "4  06/27/2022 05:15:19        06/27/2022 05:51:11  Visited Support   \n",
       "\n",
       "  Activity Detail Internal/External  \\\n",
       "0   Ticket Detail          External   \n",
       "1  Ticket Listing          External   \n",
       "2   Ticket Detail          External   \n",
       "3  Ticket Listing          External   \n",
       "4     Get Support          External   \n",
       "\n",
       "                          Activity Additional Detail  Search Result Count  \\\n",
       "0  https://help.databricks.com/s/case/5008Y00001v...                  NaN   \n",
       "1       https://help.databricks.com/s/Ticket-Listing                  NaN   \n",
       "2  https://help.databricks.com/s/case/5008Y00001v...                  NaN   \n",
       "3       https://help.databricks.com/s/Ticket-Listing                  NaN   \n",
       "4        https://help.databricks.com/s/submitrequest                  NaN   \n",
       "\n",
       "         Activity Time  \n",
       "0  06/27/2022 05:51:11  \n",
       "1  06/27/2022 05:49:47  \n",
       "2  06/27/2022 05:39:11  \n",
       "3  06/27/2022 05:39:05  \n",
       "4  06/27/2022 05:39:02  "
      ]
     },
     "execution_count": 273,
     "metadata": {},
     "output_type": "execute_result"
    }
   ],
   "source": [
    "data.head()"
   ]
  },
  {
   "cell_type": "code",
   "execution_count": 274,
   "id": "b068c995",
   "metadata": {},
   "outputs": [
    {
     "name": "stdout",
     "output_type": "stream",
     "text": [
      "<class 'pandas.core.frame.DataFrame'>\n",
      "RangeIndex: 13087 entries, 0 to 13086\n",
      "Data columns (total 13 columns):\n",
      " #   Column                      Non-Null Count  Dtype  \n",
      "---  ------                      --------------  -----  \n",
      " 0   Session Identifier          13087 non-null  int64  \n",
      " 1   Searches                    13087 non-null  int64  \n",
      " 2   Clicks                      13087 non-null  int64  \n",
      " 3   Cases Logged                13087 non-null  int64  \n",
      " 4   Support Visit               13087 non-null  object \n",
      " 5   Session Start Time          13087 non-null  object \n",
      " 6   Session last Activity Time  13087 non-null  object \n",
      " 7   Activity Type               13087 non-null  object \n",
      " 8   Activity Detail             13087 non-null  object \n",
      " 9   Internal/External           13087 non-null  object \n",
      " 10  Activity Additional Detail  12021 non-null  object \n",
      " 11  Search Result Count         1066 non-null   float64\n",
      " 12  Activity Time               13087 non-null  object \n",
      "dtypes: float64(1), int64(4), object(8)\n",
      "memory usage: 1.3+ MB\n"
     ]
    }
   ],
   "source": [
    "data.info()"
   ]
  },
  {
   "cell_type": "code",
   "execution_count": 275,
   "id": "5d1177b2",
   "metadata": {},
   "outputs": [
    {
     "data": {
      "text/plain": [
       "Session Identifier                0\n",
       "Searches                          0\n",
       "Clicks                            0\n",
       "Cases Logged                      0\n",
       "Support Visit                     0\n",
       "Session Start Time                0\n",
       "Session last Activity Time        0\n",
       "Activity Type                     0\n",
       "Activity Detail                   0\n",
       "Internal/External                 0\n",
       "Activity Additional Detail     1066\n",
       "Search Result Count           12021\n",
       "Activity Time                     0\n",
       "dtype: int64"
      ]
     },
     "execution_count": 275,
     "metadata": {},
     "output_type": "execute_result"
    }
   ],
   "source": [
    "data.isnull().sum()"
   ]
  },
  {
   "cell_type": "code",
   "execution_count": 276,
   "id": "4937ac4c",
   "metadata": {},
   "outputs": [
    {
     "data": {
      "text/html": [
       "<div>\n",
       "<style scoped>\n",
       "    .dataframe tbody tr th:only-of-type {\n",
       "        vertical-align: middle;\n",
       "    }\n",
       "\n",
       "    .dataframe tbody tr th {\n",
       "        vertical-align: top;\n",
       "    }\n",
       "\n",
       "    .dataframe thead th {\n",
       "        text-align: right;\n",
       "    }\n",
       "</style>\n",
       "<table border=\"1\" class=\"dataframe\">\n",
       "  <thead>\n",
       "    <tr style=\"text-align: right;\">\n",
       "      <th></th>\n",
       "      <th>Session Identifier</th>\n",
       "      <th>Searches</th>\n",
       "      <th>Clicks</th>\n",
       "      <th>Cases Logged</th>\n",
       "      <th>Search Result Count</th>\n",
       "    </tr>\n",
       "  </thead>\n",
       "  <tbody>\n",
       "    <tr>\n",
       "      <th>count</th>\n",
       "      <td>1.308700e+04</td>\n",
       "      <td>13087.000000</td>\n",
       "      <td>13087.000000</td>\n",
       "      <td>13087.000000</td>\n",
       "      <td>1066.000000</td>\n",
       "    </tr>\n",
       "    <tr>\n",
       "      <th>mean</th>\n",
       "      <td>1.655902e+15</td>\n",
       "      <td>0.081455</td>\n",
       "      <td>0.014595</td>\n",
       "      <td>0.045006</td>\n",
       "      <td>2488.830206</td>\n",
       "    </tr>\n",
       "    <tr>\n",
       "      <th>std</th>\n",
       "      <td>1.323881e+11</td>\n",
       "      <td>0.273543</td>\n",
       "      <td>0.119928</td>\n",
       "      <td>0.207326</td>\n",
       "      <td>2304.680440</td>\n",
       "    </tr>\n",
       "    <tr>\n",
       "      <th>min</th>\n",
       "      <td>1.655591e+15</td>\n",
       "      <td>0.000000</td>\n",
       "      <td>0.000000</td>\n",
       "      <td>0.000000</td>\n",
       "      <td>0.000000</td>\n",
       "    </tr>\n",
       "    <tr>\n",
       "      <th>25%</th>\n",
       "      <td>1.655800e+15</td>\n",
       "      <td>0.000000</td>\n",
       "      <td>0.000000</td>\n",
       "      <td>0.000000</td>\n",
       "      <td>100.250000</td>\n",
       "    </tr>\n",
       "    <tr>\n",
       "      <th>50%</th>\n",
       "      <td>1.655898e+15</td>\n",
       "      <td>0.000000</td>\n",
       "      <td>0.000000</td>\n",
       "      <td>0.000000</td>\n",
       "      <td>2096.000000</td>\n",
       "    </tr>\n",
       "    <tr>\n",
       "      <th>75%</th>\n",
       "      <td>1.656004e+15</td>\n",
       "      <td>0.000000</td>\n",
       "      <td>0.000000</td>\n",
       "      <td>0.000000</td>\n",
       "      <td>4096.000000</td>\n",
       "    </tr>\n",
       "    <tr>\n",
       "      <th>max</th>\n",
       "      <td>1.656288e+15</td>\n",
       "      <td>1.000000</td>\n",
       "      <td>1.000000</td>\n",
       "      <td>1.000000</td>\n",
       "      <td>7510.000000</td>\n",
       "    </tr>\n",
       "  </tbody>\n",
       "</table>\n",
       "</div>"
      ],
      "text/plain": [
       "       Session Identifier      Searches        Clicks  Cases Logged  \\\n",
       "count        1.308700e+04  13087.000000  13087.000000  13087.000000   \n",
       "mean         1.655902e+15      0.081455      0.014595      0.045006   \n",
       "std          1.323881e+11      0.273543      0.119928      0.207326   \n",
       "min          1.655591e+15      0.000000      0.000000      0.000000   \n",
       "25%          1.655800e+15      0.000000      0.000000      0.000000   \n",
       "50%          1.655898e+15      0.000000      0.000000      0.000000   \n",
       "75%          1.656004e+15      0.000000      0.000000      0.000000   \n",
       "max          1.656288e+15      1.000000      1.000000      1.000000   \n",
       "\n",
       "       Search Result Count  \n",
       "count          1066.000000  \n",
       "mean           2488.830206  \n",
       "std            2304.680440  \n",
       "min               0.000000  \n",
       "25%             100.250000  \n",
       "50%            2096.000000  \n",
       "75%            4096.000000  \n",
       "max            7510.000000  "
      ]
     },
     "execution_count": 276,
     "metadata": {},
     "output_type": "execute_result"
    }
   ],
   "source": [
    "data.describe()"
   ]
  },
  {
   "cell_type": "code",
   "execution_count": 277,
   "id": "661990c7",
   "metadata": {},
   "outputs": [
    {
     "data": {
      "text/html": [
       "<div>\n",
       "<style scoped>\n",
       "    .dataframe tbody tr th:only-of-type {\n",
       "        vertical-align: middle;\n",
       "    }\n",
       "\n",
       "    .dataframe tbody tr th {\n",
       "        vertical-align: top;\n",
       "    }\n",
       "\n",
       "    .dataframe thead th {\n",
       "        text-align: right;\n",
       "    }\n",
       "</style>\n",
       "<table border=\"1\" class=\"dataframe\">\n",
       "  <thead>\n",
       "    <tr style=\"text-align: right;\">\n",
       "      <th></th>\n",
       "      <th>Session Identifier</th>\n",
       "      <th>Searches</th>\n",
       "      <th>Clicks</th>\n",
       "      <th>Cases Logged</th>\n",
       "      <th>Support Visit</th>\n",
       "      <th>Session Start Time</th>\n",
       "      <th>Session last Activity Time</th>\n",
       "      <th>Activity Type</th>\n",
       "      <th>Activity Detail</th>\n",
       "      <th>Internal/External</th>\n",
       "      <th>Activity Additional Detail</th>\n",
       "      <th>Search Result Count</th>\n",
       "      <th>Activity Time</th>\n",
       "    </tr>\n",
       "  </thead>\n",
       "  <tbody>\n",
       "    <tr>\n",
       "      <th>0</th>\n",
       "      <td>1656287112905670</td>\n",
       "      <td>0</td>\n",
       "      <td>0</td>\n",
       "      <td>0</td>\n",
       "      <td>Visited Support</td>\n",
       "      <td>06/27/2022 05:15:19</td>\n",
       "      <td>06/27/2022 05:51:11</td>\n",
       "      <td>Viewed Page</td>\n",
       "      <td>Ticket Detail</td>\n",
       "      <td>External</td>\n",
       "      <td>https://help.databricks.com/s/case/5008Y00001v...</td>\n",
       "      <td>NaN</td>\n",
       "      <td>06/27/2022 05:51:11</td>\n",
       "    </tr>\n",
       "    <tr>\n",
       "      <th>1</th>\n",
       "      <td>1656287112905670</td>\n",
       "      <td>0</td>\n",
       "      <td>0</td>\n",
       "      <td>0</td>\n",
       "      <td>Visited Support</td>\n",
       "      <td>06/27/2022 05:15:19</td>\n",
       "      <td>06/27/2022 05:51:11</td>\n",
       "      <td>Viewed Page</td>\n",
       "      <td>Ticket Listing</td>\n",
       "      <td>External</td>\n",
       "      <td>https://help.databricks.com/s/Ticket-Listing</td>\n",
       "      <td>NaN</td>\n",
       "      <td>06/27/2022 05:49:47</td>\n",
       "    </tr>\n",
       "    <tr>\n",
       "      <th>2</th>\n",
       "      <td>1656287112905670</td>\n",
       "      <td>0</td>\n",
       "      <td>0</td>\n",
       "      <td>0</td>\n",
       "      <td>Visited Support</td>\n",
       "      <td>06/27/2022 05:15:19</td>\n",
       "      <td>06/27/2022 05:51:11</td>\n",
       "      <td>Viewed Page</td>\n",
       "      <td>Ticket Detail</td>\n",
       "      <td>External</td>\n",
       "      <td>https://help.databricks.com/s/case/5008Y00001v...</td>\n",
       "      <td>NaN</td>\n",
       "      <td>06/27/2022 05:39:11</td>\n",
       "    </tr>\n",
       "    <tr>\n",
       "      <th>3</th>\n",
       "      <td>1656287112905670</td>\n",
       "      <td>0</td>\n",
       "      <td>0</td>\n",
       "      <td>0</td>\n",
       "      <td>Visited Support</td>\n",
       "      <td>06/27/2022 05:15:19</td>\n",
       "      <td>06/27/2022 05:51:11</td>\n",
       "      <td>Viewed Page</td>\n",
       "      <td>Ticket Listing</td>\n",
       "      <td>External</td>\n",
       "      <td>https://help.databricks.com/s/Ticket-Listing</td>\n",
       "      <td>NaN</td>\n",
       "      <td>06/27/2022 05:39:05</td>\n",
       "    </tr>\n",
       "    <tr>\n",
       "      <th>4</th>\n",
       "      <td>1656287112905670</td>\n",
       "      <td>0</td>\n",
       "      <td>0</td>\n",
       "      <td>0</td>\n",
       "      <td>Visited Support</td>\n",
       "      <td>06/27/2022 05:15:19</td>\n",
       "      <td>06/27/2022 05:51:11</td>\n",
       "      <td>Visited Support</td>\n",
       "      <td>Get Support</td>\n",
       "      <td>External</td>\n",
       "      <td>https://help.databricks.com/s/submitrequest</td>\n",
       "      <td>NaN</td>\n",
       "      <td>06/27/2022 05:39:02</td>\n",
       "    </tr>\n",
       "  </tbody>\n",
       "</table>\n",
       "</div>"
      ],
      "text/plain": [
       "   Session Identifier  Searches  Clicks  Cases Logged    Support Visit  \\\n",
       "0    1656287112905670         0       0             0  Visited Support   \n",
       "1    1656287112905670         0       0             0  Visited Support   \n",
       "2    1656287112905670         0       0             0  Visited Support   \n",
       "3    1656287112905670         0       0             0  Visited Support   \n",
       "4    1656287112905670         0       0             0  Visited Support   \n",
       "\n",
       "    Session Start Time Session last Activity Time    Activity Type  \\\n",
       "0  06/27/2022 05:15:19        06/27/2022 05:51:11      Viewed Page   \n",
       "1  06/27/2022 05:15:19        06/27/2022 05:51:11      Viewed Page   \n",
       "2  06/27/2022 05:15:19        06/27/2022 05:51:11      Viewed Page   \n",
       "3  06/27/2022 05:15:19        06/27/2022 05:51:11      Viewed Page   \n",
       "4  06/27/2022 05:15:19        06/27/2022 05:51:11  Visited Support   \n",
       "\n",
       "  Activity Detail Internal/External  \\\n",
       "0   Ticket Detail          External   \n",
       "1  Ticket Listing          External   \n",
       "2   Ticket Detail          External   \n",
       "3  Ticket Listing          External   \n",
       "4     Get Support          External   \n",
       "\n",
       "                          Activity Additional Detail  Search Result Count  \\\n",
       "0  https://help.databricks.com/s/case/5008Y00001v...                  NaN   \n",
       "1       https://help.databricks.com/s/Ticket-Listing                  NaN   \n",
       "2  https://help.databricks.com/s/case/5008Y00001v...                  NaN   \n",
       "3       https://help.databricks.com/s/Ticket-Listing                  NaN   \n",
       "4        https://help.databricks.com/s/submitrequest                  NaN   \n",
       "\n",
       "         Activity Time  \n",
       "0  06/27/2022 05:51:11  \n",
       "1  06/27/2022 05:49:47  \n",
       "2  06/27/2022 05:39:11  \n",
       "3  06/27/2022 05:39:05  \n",
       "4  06/27/2022 05:39:02  "
      ]
     },
     "execution_count": 277,
     "metadata": {},
     "output_type": "execute_result"
    }
   ],
   "source": [
    "data.head()"
   ]
  },
  {
   "cell_type": "code",
   "execution_count": 278,
   "id": "f21eec55",
   "metadata": {},
   "outputs": [
    {
     "data": {
      "text/plain": [
       "0    12021\n",
       "1     1066\n",
       "Name: Searches, dtype: int64"
      ]
     },
     "execution_count": 278,
     "metadata": {},
     "output_type": "execute_result"
    }
   ],
   "source": [
    "data['Searches'].value_counts()  #determines number of searches"
   ]
  },
  {
   "cell_type": "code",
   "execution_count": 279,
   "id": "1eb1b124",
   "metadata": {},
   "outputs": [
    {
     "data": {
      "text/plain": [
       "0    12896\n",
       "1      191\n",
       "Name: Clicks, dtype: int64"
      ]
     },
     "execution_count": 279,
     "metadata": {},
     "output_type": "execute_result"
    }
   ],
   "source": [
    "data['Clicks'].value_counts() "
   ]
  },
  {
   "cell_type": "code",
   "execution_count": 280,
   "id": "64dc0091",
   "metadata": {},
   "outputs": [
    {
     "data": {
      "text/plain": [
       "0    12498\n",
       "1      589\n",
       "Name: Cases Logged, dtype: int64"
      ]
     },
     "execution_count": 280,
     "metadata": {},
     "output_type": "execute_result"
    }
   ],
   "source": [
    "data['Cases Logged'].value_counts()"
   ]
  },
  {
   "cell_type": "code",
   "execution_count": 281,
   "id": "765b6840",
   "metadata": {},
   "outputs": [
    {
     "data": {
      "text/plain": [
       "Viewed Page                             10477\n",
       "Visited Support                           764\n",
       "Text Searched(Support Page)               597\n",
       "Case Created                              589\n",
       "Text Searched                             469\n",
       "Clicked Search Result                     177\n",
       "Clicked Search Result (Support Page)       14\n",
       "Name: Activity Type, dtype: int64"
      ]
     },
     "execution_count": 281,
     "metadata": {},
     "output_type": "execute_result"
    }
   ],
   "source": [
    "data['Activity Type'].value_counts()"
   ]
  },
  {
   "cell_type": "code",
   "execution_count": 282,
   "id": "4842ff11",
   "metadata": {},
   "outputs": [
    {
     "data": {
      "text/plain": [
       "<AxesSubplot:>"
      ]
     },
     "execution_count": 282,
     "metadata": {},
     "output_type": "execute_result"
    },
    {
     "data": {
      "image/png": "[encoded data removed]",
      "text/plain": [
       "<Figure size 432x288 with 1 Axes>"
      ]
     },
     "metadata": {},
     "output_type": "display_data"
    }
   ],
   "source": [
    "data['Internal/External'].value_counts().plot(kind='barh')"
   ]
  },
  {
   "cell_type": "code",
   "execution_count": 283,
   "id": "8464298d",
   "metadata": {},
   "outputs": [
    {
     "data": {
      "text/plain": [
       "<AxesSubplot:>"
      ]
     },
     "execution_count": 283,
     "metadata": {},
     "output_type": "execute_result"
    },
    {
     "data": {
      "image/png": "[encoded data removed]",
      "text/plain": [
       "<Figure size 432x288 with 1 Axes>"
      ]
     },
     "metadata": {},
     "output_type": "display_data"
    }
   ],
   "source": [
    "data['Support Visit'].value_counts().plot(kind='bar')"
   ]
  },
  {
   "cell_type": "code",
   "execution_count": 284,
   "id": "9cd9053a",
   "metadata": {},
   "outputs": [
    {
     "data": {
      "text/plain": [
       "<AxesSubplot:>"
      ]
     },
     "execution_count": 284,
     "metadata": {},
     "output_type": "execute_result"
    },
    {
     "data": {
      "image/png": "[encoded data removed]",
      "text/plain": [
       "<Figure size 432x288 with 1 Axes>"
      ]
     },
     "metadata": {},
     "output_type": "display_data"
    }
   ],
   "source": [
    "data['Activity Type'].value_counts().plot(kind='barh')"
   ]
  },
  {
   "cell_type": "code",
   "execution_count": 305,
   "id": "937c0bdd",
   "metadata": {},
   "outputs": [],
   "source": [
    "data['Session Start Time'] = pd.to_datetime(data['Session Start Time'], errors='coerce')\n",
    "data['Session last Activity Time'] = pd.to_datetime(data['Session last Activity Time'], errors='coerce')"
   ]
  },
  {
   "cell_type": "code",
   "execution_count": 306,
   "id": "9a7fd942",
   "metadata": {},
   "outputs": [
    {
     "name": "stdout",
     "output_type": "stream",
     "text": [
      "<class 'pandas.core.frame.DataFrame'>\n",
      "RangeIndex: 13087 entries, 0 to 13086\n",
      "Data columns (total 13 columns):\n",
      " #   Column                      Non-Null Count  Dtype         \n",
      "---  ------                      --------------  -----         \n",
      " 0   Session Identifier          13087 non-null  int64         \n",
      " 1   Searches                    13087 non-null  int64         \n",
      " 2   Clicks                      13087 non-null  int64         \n",
      " 3   Cases Logged                13087 non-null  int64         \n",
      " 4   Support Visit               13087 non-null  object        \n",
      " 5   Session Start Time          13087 non-null  datetime64[ns]\n",
      " 6   Session last Activity Time  13087 non-null  datetime64[ns]\n",
      " 7   Activity Type               13087 non-null  object        \n",
      " 8   Activity Detail             13087 non-null  object        \n",
      " 9   Internal/External           13087 non-null  object        \n",
      " 10  Activity Additional Detail  12021 non-null  object        \n",
      " 11  Search Result Count         1066 non-null   float64       \n",
      " 12  Activity Time               13087 non-null  object        \n",
      "dtypes: datetime64[ns](2), float64(1), int64(4), object(6)\n",
      "memory usage: 1.3+ MB\n"
     ]
    }
   ],
   "source": [
    "data.info()"
   ]
  },
  {
   "cell_type": "code",
   "execution_count": 309,
   "id": "b28f2ece",
   "metadata": {},
   "outputs": [],
   "source": [
    "data['difftime'] = data['Session last Activity Time'] - data['Session Start Time'] "
   ]
  },
  {
   "cell_type": "code",
   "execution_count": 312,
   "id": "acf259a6",
   "metadata": {},
   "outputs": [],
   "source": [
    "data['difftime_seconds'] = (data['Session last Activity Time'] - data['Session Start Time']).dt.total_seconds()"
   ]
  },
  {
   "cell_type": "code",
   "execution_count": 346,
   "id": "dd1c787a",
   "metadata": {},
   "outputs": [],
   "source": [
    "data6 = data.groupby(['Session Identifier']).agg({'difftime_seconds':'max','Searches': 'max','Clicks':'max', 'Cases Logged':'max','Support Visit':lambda x: ' '.join(set(x)),'Activity Type':lambda x: ' '.join(set(x)),'Activity Detail':lambda x: ' '.join(set(x))})"
   ]
  },
  {
   "cell_type": "code",
   "execution_count": 347,
   "id": "f38f8604",
   "metadata": {},
   "outputs": [
    {
     "data": {
      "text/html": [
       "<div>\n",
       "<style scoped>\n",
       "    .dataframe tbody tr th:only-of-type {\n",
       "        vertical-align: middle;\n",
       "    }\n",
       "\n",
       "    .dataframe tbody tr th {\n",
       "        vertical-align: top;\n",
       "    }\n",
       "\n",
       "    .dataframe thead th {\n",
       "        text-align: right;\n",
       "    }\n",
       "</style>\n",
       "<table border=\"1\" class=\"dataframe\">\n",
       "  <thead>\n",
       "    <tr style=\"text-align: right;\">\n",
       "      <th></th>\n",
       "      <th>difftime_seconds</th>\n",
       "      <th>Searches</th>\n",
       "      <th>Clicks</th>\n",
       "      <th>Cases Logged</th>\n",
       "      <th>Support Visit</th>\n",
       "      <th>Activity Type</th>\n",
       "      <th>Activity Detail</th>\n",
       "    </tr>\n",
       "    <tr>\n",
       "      <th>Session Identifier</th>\n",
       "      <th></th>\n",
       "      <th></th>\n",
       "      <th></th>\n",
       "      <th></th>\n",
       "      <th></th>\n",
       "      <th></th>\n",
       "      <th></th>\n",
       "    </tr>\n",
       "  </thead>\n",
       "  <tbody>\n",
       "    <tr>\n",
       "      <th>1655590687754372</th>\n",
       "      <td>9527.0</td>\n",
       "      <td>1</td>\n",
       "      <td>0</td>\n",
       "      <td>1</td>\n",
       "      <td>Visited Support</td>\n",
       "      <td>Case Created Viewed Page Text Searched(Support...</td>\n",
       "      <td>Ticket Listing Genie | 00185655 Query about az...</td>\n",
       "    </tr>\n",
       "    <tr>\n",
       "      <th>1655597013812969</th>\n",
       "      <td>0.0</td>\n",
       "      <td>0</td>\n",
       "      <td>0</td>\n",
       "      <td>0</td>\n",
       "      <td>Not Visited Support</td>\n",
       "      <td>Viewed Page</td>\n",
       "      <td>Help Center - Databricks</td>\n",
       "    </tr>\n",
       "    <tr>\n",
       "      <th>1655598223775815</th>\n",
       "      <td>0.0</td>\n",
       "      <td>0</td>\n",
       "      <td>0</td>\n",
       "      <td>0</td>\n",
       "      <td>Not Visited Support</td>\n",
       "      <td>Viewed Page</td>\n",
       "      <td>Help Center - Databricks</td>\n",
       "    </tr>\n",
       "    <tr>\n",
       "      <th>1655599595837296</th>\n",
       "      <td>0.0</td>\n",
       "      <td>0</td>\n",
       "      <td>0</td>\n",
       "      <td>0</td>\n",
       "      <td>Not Visited Support</td>\n",
       "      <td>Viewed Page</td>\n",
       "      <td>Help Center - Databricks</td>\n",
       "    </tr>\n",
       "    <tr>\n",
       "      <th>1655600002985148</th>\n",
       "      <td>15.0</td>\n",
       "      <td>0</td>\n",
       "      <td>0</td>\n",
       "      <td>0</td>\n",
       "      <td>Not Visited Support</td>\n",
       "      <td>Viewed Page</td>\n",
       "      <td>Ticket Detail Case Detail</td>\n",
       "    </tr>\n",
       "  </tbody>\n",
       "</table>\n",
       "</div>"
      ],
      "text/plain": [
       "                    difftime_seconds  Searches  Clicks  Cases Logged  \\\n",
       "Session Identifier                                                     \n",
       "1655590687754372              9527.0         1       0             1   \n",
       "1655597013812969                 0.0         0       0             0   \n",
       "1655598223775815                 0.0         0       0             0   \n",
       "1655599595837296                 0.0         0       0             0   \n",
       "1655600002985148                15.0         0       0             0   \n",
       "\n",
       "                          Support Visit  \\\n",
       "Session Identifier                        \n",
       "1655590687754372        Visited Support   \n",
       "1655597013812969    Not Visited Support   \n",
       "1655598223775815    Not Visited Support   \n",
       "1655599595837296    Not Visited Support   \n",
       "1655600002985148    Not Visited Support   \n",
       "\n",
       "                                                        Activity Type  \\\n",
       "Session Identifier                                                      \n",
       "1655590687754372    Case Created Viewed Page Text Searched(Support...   \n",
       "1655597013812969                                          Viewed Page   \n",
       "1655598223775815                                          Viewed Page   \n",
       "1655599595837296                                          Viewed Page   \n",
       "1655600002985148                                          Viewed Page   \n",
       "\n",
       "                                                      Activity Detail  \n",
       "Session Identifier                                                     \n",
       "1655590687754372    Ticket Listing Genie | 00185655 Query about az...  \n",
       "1655597013812969                             Help Center - Databricks  \n",
       "1655598223775815                             Help Center - Databricks  \n",
       "1655599595837296                             Help Center - Databricks  \n",
       "1655600002985148                            Ticket Detail Case Detail  "
      ]
     },
     "execution_count": 347,
     "metadata": {},
     "output_type": "execute_result"
    }
   ],
   "source": [
    "data6.head()"
   ]
  },
  {
   "cell_type": "markdown",
   "id": "e77cd4bb",
   "metadata": {},
   "source": [
    "# CASES LOGGED WITH/WITHOUT CLICKS\n",
    "\n"
   ]
  },
  {
   "cell_type": "code",
   "execution_count": 349,
   "id": "392daaf0",
   "metadata": {},
   "outputs": [
    {
     "data": {
      "text/html": [
       "<div>\n",
       "<style scoped>\n",
       "    .dataframe tbody tr th:only-of-type {\n",
       "        vertical-align: middle;\n",
       "    }\n",
       "\n",
       "    .dataframe tbody tr th {\n",
       "        vertical-align: top;\n",
       "    }\n",
       "\n",
       "    .dataframe thead th {\n",
       "        text-align: right;\n",
       "    }\n",
       "</style>\n",
       "<table border=\"1\" class=\"dataframe\">\n",
       "  <thead>\n",
       "    <tr style=\"text-align: right;\">\n",
       "      <th></th>\n",
       "      <th>difftime_seconds</th>\n",
       "      <th>Searches</th>\n",
       "      <th>Clicks</th>\n",
       "      <th>Cases Logged</th>\n",
       "      <th>Support Visit</th>\n",
       "      <th>Activity Type</th>\n",
       "      <th>Activity Detail</th>\n",
       "    </tr>\n",
       "    <tr>\n",
       "      <th>Session Identifier</th>\n",
       "      <th></th>\n",
       "      <th></th>\n",
       "      <th></th>\n",
       "      <th></th>\n",
       "      <th></th>\n",
       "      <th></th>\n",
       "      <th></th>\n",
       "    </tr>\n",
       "  </thead>\n",
       "  <tbody>\n",
       "    <tr>\n",
       "      <th>1655590687754372</th>\n",
       "      <td>9527.0</td>\n",
       "      <td>1</td>\n",
       "      <td>0</td>\n",
       "      <td>1</td>\n",
       "      <td>Visited Support</td>\n",
       "      <td>Case Created Viewed Page Text Searched(Support...</td>\n",
       "      <td>Ticket Listing Genie | 00185655 Query about az...</td>\n",
       "    </tr>\n",
       "    <tr>\n",
       "      <th>1655608606350665</th>\n",
       "      <td>200.0</td>\n",
       "      <td>1</td>\n",
       "      <td>0</td>\n",
       "      <td>1</td>\n",
       "      <td>Visited Support</td>\n",
       "      <td>Case Created Viewed Page Text Searched(Support...</td>\n",
       "      <td>Databricks SQL queries failing | 00185659 Tick...</td>\n",
       "    </tr>\n",
       "    <tr>\n",
       "      <th>1655632334320246</th>\n",
       "      <td>483.0</td>\n",
       "      <td>1</td>\n",
       "      <td>0</td>\n",
       "      <td>1</td>\n",
       "      <td>Visited Support</td>\n",
       "      <td>Case Created Viewed Page Text Searched(Support...</td>\n",
       "      <td>sql parameter isn't being ignored when comment...</td>\n",
       "    </tr>\n",
       "    <tr>\n",
       "      <th>1655680099918820</th>\n",
       "      <td>1772.0</td>\n",
       "      <td>1</td>\n",
       "      <td>0</td>\n",
       "      <td>1</td>\n",
       "      <td>Visited Support</td>\n",
       "      <td>Case Created Viewed Page Text Searched(Support...</td>\n",
       "      <td>2206170030001478 Ticket Listing Ticket Detail ...</td>\n",
       "    </tr>\n",
       "    <tr>\n",
       "      <th>1655682095496105</th>\n",
       "      <td>621.0</td>\n",
       "      <td>1</td>\n",
       "      <td>0</td>\n",
       "      <td>1</td>\n",
       "      <td>Visited Support</td>\n",
       "      <td>Case Created Viewed Page Text Searched(Support...</td>\n",
       "      <td>Ticket Detail sql能在开源spark上正常执行，但是在databricks上...</td>\n",
       "    </tr>\n",
       "    <tr>\n",
       "      <th>...</th>\n",
       "      <td>...</td>\n",
       "      <td>...</td>\n",
       "      <td>...</td>\n",
       "      <td>...</td>\n",
       "      <td>...</td>\n",
       "      <td>...</td>\n",
       "      <td>...</td>\n",
       "    </tr>\n",
       "    <tr>\n",
       "      <th>1656138722836858</th>\n",
       "      <td>426.0</td>\n",
       "      <td>1</td>\n",
       "      <td>0</td>\n",
       "      <td>1</td>\n",
       "      <td>Visited Support</td>\n",
       "      <td>Case Created Viewed Page Text Searched(Support...</td>\n",
       "      <td>Ticket Listing 2206250040000042 - genie access...</td>\n",
       "    </tr>\n",
       "    <tr>\n",
       "      <th>1656166404945477</th>\n",
       "      <td>222.0</td>\n",
       "      <td>1</td>\n",
       "      <td>0</td>\n",
       "      <td>1</td>\n",
       "      <td>Visited Support</td>\n",
       "      <td>Case Created Viewed Page Text Searched(Support...</td>\n",
       "      <td>Change of support ownership. | 00187270 Help C...</td>\n",
       "    </tr>\n",
       "    <tr>\n",
       "      <th>1656226715983344</th>\n",
       "      <td>739.0</td>\n",
       "      <td>1</td>\n",
       "      <td>0</td>\n",
       "      <td>1</td>\n",
       "      <td>Visited Support</td>\n",
       "      <td>Case Created Viewed Page Text Searched(Support...</td>\n",
       "      <td>remote rpc error Remote RPC error | 00187312 H...</td>\n",
       "    </tr>\n",
       "    <tr>\n",
       "      <th>1656229780053066</th>\n",
       "      <td>648.0</td>\n",
       "      <td>1</td>\n",
       "      <td>0</td>\n",
       "      <td>1</td>\n",
       "      <td>Visited Support</td>\n",
       "      <td>Case Created Viewed Page Text Searched(Support...</td>\n",
       "      <td>Ticket Listing Ticket Detail Delta merge optim...</td>\n",
       "    </tr>\n",
       "    <tr>\n",
       "      <th>1656285393673710</th>\n",
       "      <td>437.0</td>\n",
       "      <td>1</td>\n",
       "      <td>0</td>\n",
       "      <td>1</td>\n",
       "      <td>Visited Support</td>\n",
       "      <td>Case Created Viewed Page Text Searched(Support...</td>\n",
       "      <td>Help Center - Databricks Case Detail unable to...</td>\n",
       "    </tr>\n",
       "  </tbody>\n",
       "</table>\n",
       "<p>473 rows × 7 columns</p>\n",
       "</div>"
      ],
      "text/plain": [
       "                    difftime_seconds  Searches  Clicks  Cases Logged  \\\n",
       "Session Identifier                                                     \n",
       "1655590687754372              9527.0         1       0             1   \n",
       "1655608606350665               200.0         1       0             1   \n",
       "1655632334320246               483.0         1       0             1   \n",
       "1655680099918820              1772.0         1       0             1   \n",
       "1655682095496105               621.0         1       0             1   \n",
       "...                              ...       ...     ...           ...   \n",
       "1656138722836858               426.0         1       0             1   \n",
       "1656166404945477               222.0         1       0             1   \n",
       "1656226715983344               739.0         1       0             1   \n",
       "1656229780053066               648.0         1       0             1   \n",
       "1656285393673710               437.0         1       0             1   \n",
       "\n",
       "                      Support Visit  \\\n",
       "Session Identifier                    \n",
       "1655590687754372    Visited Support   \n",
       "1655608606350665    Visited Support   \n",
       "1655632334320246    Visited Support   \n",
       "1655680099918820    Visited Support   \n",
       "1655682095496105    Visited Support   \n",
       "...                             ...   \n",
       "1656138722836858    Visited Support   \n",
       "1656166404945477    Visited Support   \n",
       "1656226715983344    Visited Support   \n",
       "1656229780053066    Visited Support   \n",
       "1656285393673710    Visited Support   \n",
       "\n",
       "                                                        Activity Type  \\\n",
       "Session Identifier                                                      \n",
       "1655590687754372    Case Created Viewed Page Text Searched(Support...   \n",
       "1655608606350665    Case Created Viewed Page Text Searched(Support...   \n",
       "1655632334320246    Case Created Viewed Page Text Searched(Support...   \n",
       "1655680099918820    Case Created Viewed Page Text Searched(Support...   \n",
       "1655682095496105    Case Created Viewed Page Text Searched(Support...   \n",
       "...                                                               ...   \n",
       "1656138722836858    Case Created Viewed Page Text Searched(Support...   \n",
       "1656166404945477    Case Created Viewed Page Text Searched(Support...   \n",
       "1656226715983344    Case Created Viewed Page Text Searched(Support...   \n",
       "1656229780053066    Case Created Viewed Page Text Searched(Support...   \n",
       "1656285393673710    Case Created Viewed Page Text Searched(Support...   \n",
       "\n",
       "                                                      Activity Detail  \n",
       "Session Identifier                                                     \n",
       "1655590687754372    Ticket Listing Genie | 00185655 Query about az...  \n",
       "1655608606350665    Databricks SQL queries failing | 00185659 Tick...  \n",
       "1655632334320246    sql parameter isn't being ignored when comment...  \n",
       "1655680099918820    2206170030001478 Ticket Listing Ticket Detail ...  \n",
       "1655682095496105    Ticket Detail sql能在开源spark上正常执行，但是在databricks上...  \n",
       "...                                                               ...  \n",
       "1656138722836858    Ticket Listing 2206250040000042 - genie access...  \n",
       "1656166404945477    Change of support ownership. | 00187270 Help C...  \n",
       "1656226715983344    remote rpc error Remote RPC error | 00187312 H...  \n",
       "1656229780053066    Ticket Listing Ticket Detail Delta merge optim...  \n",
       "1656285393673710    Help Center - Databricks Case Detail unable to...  \n",
       "\n",
       "[473 rows x 7 columns]"
      ]
     },
     "execution_count": 349,
     "metadata": {},
     "output_type": "execute_result"
    }
   ],
   "source": [
    "data6[(data6['Cases Logged'] == 1) & (data6['Clicks'] == 0)]"
   ]
  },
  {
   "cell_type": "code",
   "execution_count": 334,
   "id": "e01de812",
   "metadata": {},
   "outputs": [
    {
     "data": {
      "text/plain": [
       "Session Identifier\n",
       "1655590687754372    [Visited Support, Visited Support, Visited Sup...\n",
       "1655597013812969                                [Not Visited Support]\n",
       "1655598223775815                                [Not Visited Support]\n",
       "1655599595837296                                [Not Visited Support]\n",
       "1655600002985148    [Not Visited Support, Not Visited Support, Not...\n",
       "                                          ...                        \n",
       "1656285393673710    [Visited Support, Visited Support, Visited Sup...\n",
       "1656285753732750                                [Not Visited Support]\n",
       "1656286234987185                                [Not Visited Support]\n",
       "1656287112905670    [Visited Support, Visited Support, Visited Sup...\n",
       "1656287960561615                                [Not Visited Support]\n",
       "Name: Support Visit, Length: 3822, dtype: object"
      ]
     },
     "execution_count": 334,
     "metadata": {},
     "output_type": "execute_result"
    }
   ],
   "source": [
    "data6['Support Visit']"
   ]
  },
  {
   "cell_type": "code",
   "execution_count": null,
   "id": "1c8417a6",
   "metadata": {},
   "outputs": [],
   "source": []
  }
 ],
 "metadata": {
  "kernelspec": {
   "display_name": "Python 3 (ipykernel)",
   "language": "python",
   "name": "python3"
  },
  "language_info": {
   "codemirror_mode": {
    "name": "ipython",
    "version": 3
   },
   "file_extension": ".py",
   "mimetype": "text/x-python",
   "name": "python",
   "nbconvert_exporter": "python",
   "pygments_lexer": "ipython3",
   "version": "3.9.12"
  }
 },
 "nbformat": 4,
 "nbformat_minor": 5
}
