{
 "cells": [
  {
   "cell_type": "code",
   "execution_count": 26,
   "id": "bf3bfc98-749e-45c8-9b16-50ba99cc9eea",
   "metadata": {},
   "outputs": [
    {
     "name": "stderr",
     "output_type": "stream",
     "text": [
      "[nltk_data] Downloading package wordnet to\n",
      "[nltk_data]     /Users/ankush.singal/nltk_data...\n",
      "[nltk_data]   Package wordnet is already up-to-date!\n",
      "[nltk_data] Downloading package stopwords to\n",
      "[nltk_data]     /Users/ankush.singal/nltk_data...\n",
      "[nltk_data]   Package stopwords is already up-to-date!\n",
      "[nltk_data] Downloading package punkt to\n",
      "[nltk_data]     /Users/ankush.singal/nltk_data...\n",
      "[nltk_data]   Package punkt is already up-to-date!\n",
      "[nltk_data] Downloading package omw-1.4 to\n",
      "[nltk_data]     /Users/ankush.singal/nltk_data...\n",
      "[nltk_data]   Package omw-1.4 is already up-to-date!\n"
     ]
    }
   ],
   "source": [
    "import numpy as np\n",
    "import pandas as pd\n",
    "import pickle\n",
    "\n",
    "from sklearn.feature_extraction.text import TfidfVectorizer\n",
    "from sklearn.cluster import KMeans\n",
    "from sklearn.decomposition import PCA\n",
    "from sklearn.metrics import silhouette_score\n",
    "\n",
    "from sklearn import preprocessing\n",
    "from yellowbrick.cluster import SilhouetteVisualizer\n",
    "from sklearn.metrics import adjusted_rand_score\n",
    "from sklearn.feature_extraction.text import CountVectorizer\n",
    "from sklearn.decomposition import LatentDirichletAllocation\n",
    "from sklearn.metrics import silhouette_score, silhouette_samples\n",
    "\n",
    "#spacy\n",
    "import spacy\n",
    "import nltk\n",
    "nltk.download('wordnet')\n",
    "nltk.download('stopwords')\n",
    "nltk.download('punkt')\n",
    "nltk.download('omw-1.4')\n",
    "nlp = spacy.load(\"en_core_web_sm\")\n",
    "nlp2 = spacy.load(\"en_core_web_md\")\n",
    "from nltk.corpus import stopwords \n",
    "from nltk.stem import WordNetLemmatizer \n",
    "# Init the Wordnet Lemmatizer\n",
    "lemmatizer = WordNetLemmatizer()\n",
    "import textwrap\n",
    "\n",
    "stops = stopwords.words('english')\n",
    "new_stopwords = [\"to\",\"the\",\"is\",\"in\",\"and\",\"for\",\"a\",\"databricks\",\"this\",\"not\",\"i\",\"with\",\"it\",\"we\",\"of\",\"on\",\"https\",\"are\",\"have\",\"that\",\"but\",\"please\",\"from\",\"can\",\"you\",\"when\",\"if\",\"-\",\"as\",\"o\",\"be\",\"or\",\"has\",\"customer\",\"see\",\"using\",\"an\",\"time\",\"any\",\".\",\"our\",\"t\",\"help\",\"hi\",\"was\",\"there\",\"team\",\"am\",\"my\",\"url\",\"at\",\"by\",\"id\",\"what\",\"below\",\"which\",\"need\",\"no\",\"could\",\"some\",\"while\",\"use\",\"new\",\"same\",\"us\",\"s\",\"they\",\"me\",\"also\",\"how\",\"details\",\"after\",\"know\",\"all\",\"so\",\"would\",\"thanks\",\"one\",\"like\",\"start\",\"1\",\"do\",\"2\",\"2022\",\"however\",\"00\",\"up\",\"about\",\"hello\",\"only\",\"will\",\"did\",\"arr\",\"your\",\"true\",\"tried\",\"check\",\"before\",\"due\",\"been\",\"note\",\"other\",\"false\",\"out\",\"more\",\"end\",\"cannot\",\"where\",\"into\",\"then\",\"support\",\"want\",\"why\",\"does\",\"since\",\"happened\",\"were\",\"found\",\"last\",\"details.\",\"m\",\"still\",\"here\",\"these\",\"question\",\"answer\",\"time\", \"subscription\", \"subscriptions\",\"didn\",\"successfully\",\"successful\",\"went\", \"test\", \"tested\",\"tests\", \"confirm\", \"confirmed\",\"along\",\"both\",\"non\",\"through\",\"means\",\"being\",\"asked\",\"ask\",\"able\",\"unable\",\"believe\",\"something\",\"actually\",\"back\",\"identified\",\"jan\",\"feb\",\"mar\",\"apr\",\"may\",\"jun\",\"jul\",\"oct\",\"nov\",\"dec\",\"chennai\",\"kolkata\",\"mumbai\",\"delhi\",\"never\",\"worked\",\"answers\",\"stopped\",\"occurring\",\"issue\",\"earlier\",\"list\",\"monday\",\"onwards\",\"already\",\"exists\",\"getting\",\"error\",\"fail\",\"get\",\"job\",\"prod\",\"utc-05\",\"eastern\",\"canada\",\"additional\",\"questions\",\"problem\",\"begin\",\"00.000z\",\"approximate\",\"ongoing\",\"leave\",\"sun\",\"mon\",\"tue\",\"wed\",\"thu\",\"fri\",\"sat\",\"utc-07\",\"within\",\"requesttypeid\",\"subscriptiontype\",\"location\",\"resourcegroups\",\"providers\",\"utc-06\",\"central\",\"just\",\"ultimately\",\"because\",\"problemstarttime\",\"goes\",\"having\",\"said\",\"its\",\"locality\",\"go\",\"azureproductsubscriptionname\",\"azureproductsubscriptionid\",\"tenant\",\"unifiedenterprise\",\"supportplandisplayname\",\"databricksconsent\",\"grantpermission\",\"hdinsightconsent\",\"sharememorydump\",\"following\",\"during\",\"resourceuri\",\"workspaceid\",\"workspaces\",\"workspace\",\"hence\",\"caused\",\"though\",\"instanceid\",\"getinstanceid\",\"utc\",\"seconds\",\"elapsed\",\"reason\",\"recent\",\"name\",\"likely\",\"most\",\"times\",\"must\",\"specify\",\"e.g\",\"via\",\"doesn\",\"agent_additional_properties_do_not_edit\",\"start\",\"wasn\",\"requestid\",\"serverrequestid\",\"yesterday\",\"morning\",\"needed\",\"phone\",\"contact\",\"person\",\"seamlessly\",\"efficiently\",\"yes\",\"no\",\"given\",\"party\",\"description\",\"now\",\"minutes\",\"minute\",\"instance\",\"anything\",\"feels\",\"done\",\"such\",\"today\",\"others\",\"came\",\"very\",\"such\",\"mins\",\"avoid\",\"http\",\"https\",\"fix\",\"day\",\"again\",\"had\",\"checked\",\"check\",\"even\",\"sometimes\",\"facing\",\"asking\",\"cause\",\"necessary\",\"steps\",\"resolve\",\"every\",\"comes\",\"under\",\"keeps\",\"showing\",\"perfectly\",\"personal\",\"between\",\"consent\",\"insight\",\"turned\",\"off\",\"email\",\"hostedcontainer\",\"hostprivateip\",\"containerip\",\"clusterid\",\"resources\",\"instantiatedresources\",\"memorymb\",\"ecus\",\"cgroupshares\",\"instancetype\",\"metadata\",\"containermetadata\",\"happen\",\"consider\",\"org\",\"sure\",\"follow-up\",\"jobname\",\"bricks\",\"own\",\"involved\",\"gets\",\"directly\",\"two\",\"recently\",\"happens\",\"solve\",\"issues\",\"queries\",\"possible\",\"present\",\"exist\",\"path\",\"call\",\"deco\", \"raise\",\"spark\",\"pyspark\",\"traceback\",\"java.lang.thread.run\"]\n",
    "stops.extend(new_stopwords)"
   ]
  },
  {
   "cell_type": "code",
   "execution_count": 21,
   "id": "ae5d6a75-9a90-4e1a-b89b-7c859bc50211",
   "metadata": {},
   "outputs": [
    {
     "data": {
      "text/plain": [
       "Index(['title'], dtype='object')"
      ]
     },
     "execution_count": 21,
     "metadata": {},
     "output_type": "execute_result"
    }
   ],
   "source": [
    "df =pd.read_csv('databricks2.csv',usecols=['title'])\n",
    "df.columns"
   ]
  },
  {
   "cell_type": "code",
   "execution_count": 15,
   "id": "ee93c842-3ab2-4ef6-8326-51149c9e54ec",
   "metadata": {},
   "outputs": [],
   "source": [
    "tfidf_vec = pickle.load(open('tfidf_vec.pickle','rb'))"
   ]
  },
  {
   "cell_type": "code",
   "execution_count": 16,
   "id": "d66fe83b-4022-449e-8718-8da5a814e472",
   "metadata": {},
   "outputs": [],
   "source": [
    "pca = pickle.load(open('pca.pickle', 'rb'))"
   ]
  },
  {
   "cell_type": "code",
   "execution_count": 17,
   "id": "8f01b8ab-cbed-42e7-bddd-a82d42ee16f4",
   "metadata": {},
   "outputs": [],
   "source": [
    "kmeans_pca = pickle.load(open('kmeans_model.pickle', 'rb'))"
   ]
  },
  {
   "cell_type": "code",
   "execution_count": 22,
   "id": "5f7abd65-6517-4974-9b5a-68801ec0f662",
   "metadata": {},
   "outputs": [
    {
     "name": "stderr",
     "output_type": "stream",
     "text": [
      "/Users/ankush.singal/opt/anaconda3/lib/python3.9/site-packages/sklearn/feature_extraction/text.py:396: UserWarning: Your stop_words may be inconsistent with your preprocessing. Tokenizing the stop words generated tokens ['000z', '05', '06', '07', 'follow', 'java', 'lang', 'run', 'thread'] not in stop_words.\n",
      "  warnings.warn(\n"
     ]
    }
   ],
   "source": [
    "data_tfidf = tfidf_vec.fit_transform(df.title).todense()"
   ]
  },
  {
   "cell_type": "code",
   "execution_count": 23,
   "id": "ce0762ff-e6a9-4fb1-a418-e11fa9cfe749",
   "metadata": {},
   "outputs": [
    {
     "name": "stderr",
     "output_type": "stream",
     "text": [
      "/Users/ankush.singal/opt/anaconda3/lib/python3.9/site-packages/sklearn/utils/validation.py:593: FutureWarning: np.matrix usage is deprecated in 1.0 and will raise a TypeError in 1.2. Please convert to a numpy array with np.asarray. For more information see: https://numpy.org/doc/stable/reference/generated/numpy.matrix.html\n",
      "  warnings.warn(\n"
     ]
    }
   ],
   "source": [
    "data_pca = pca.fit_transform(data_tfidf)"
   ]
  },
  {
   "cell_type": "code",
   "execution_count": 24,
   "id": "d65c2f5a-0b6d-495d-b5ee-0645b548ed20",
   "metadata": {},
   "outputs": [],
   "source": [
    "kmeans_pca_title = kmeans_pca.fit_predict(data_pca)"
   ]
  },
  {
   "cell_type": "code",
   "execution_count": 28,
   "id": "38a71dde-705e-47fc-b615-2746debed860",
   "metadata": {},
   "outputs": [],
   "source": [
    "sample_scores = silhouette_samples( data_pca, kmeans_pca_title )\n",
    "sample_scores_df =  pd.DataFrame( data = {'Cluster':kmeans_pca_title, 'Silhouette':sample_scores} )\n",
    "sample_scores_df = sample_scores_df.reset_index()\n",
    "sample_scores_df=sample_scores_df.sort_values('Silhouette', ascending=False)"
   ]
  },
  {
   "cell_type": "code",
   "execution_count": 29,
   "id": "ee746144-d2c3-45a4-8ee0-f8484c87b8f1",
   "metadata": {},
   "outputs": [
    {
     "data": {
      "text/html": [
       "<div>\n",
       "<style scoped>\n",
       "    .dataframe tbody tr th:only-of-type {\n",
       "        vertical-align: middle;\n",
       "    }\n",
       "\n",
       "    .dataframe tbody tr th {\n",
       "        vertical-align: top;\n",
       "    }\n",
       "\n",
       "    .dataframe thead th {\n",
       "        text-align: right;\n",
       "    }\n",
       "</style>\n",
       "<table border=\"1\" class=\"dataframe\">\n",
       "  <thead>\n",
       "    <tr style=\"text-align: right;\">\n",
       "      <th></th>\n",
       "      <th>index</th>\n",
       "      <th>Cluster</th>\n",
       "      <th>Silhouette</th>\n",
       "    </tr>\n",
       "  </thead>\n",
       "  <tbody>\n",
       "    <tr>\n",
       "      <th>2802</th>\n",
       "      <td>2802</td>\n",
       "      <td>12</td>\n",
       "      <td>0.970252</td>\n",
       "    </tr>\n",
       "    <tr>\n",
       "      <th>5433</th>\n",
       "      <td>5433</td>\n",
       "      <td>12</td>\n",
       "      <td>0.970252</td>\n",
       "    </tr>\n",
       "    <tr>\n",
       "      <th>157</th>\n",
       "      <td>157</td>\n",
       "      <td>12</td>\n",
       "      <td>0.970252</td>\n",
       "    </tr>\n",
       "    <tr>\n",
       "      <th>299</th>\n",
       "      <td>299</td>\n",
       "      <td>12</td>\n",
       "      <td>0.970252</td>\n",
       "    </tr>\n",
       "    <tr>\n",
       "      <th>5031</th>\n",
       "      <td>5031</td>\n",
       "      <td>12</td>\n",
       "      <td>0.970252</td>\n",
       "    </tr>\n",
       "    <tr>\n",
       "      <th>...</th>\n",
       "      <td>...</td>\n",
       "      <td>...</td>\n",
       "      <td>...</td>\n",
       "    </tr>\n",
       "    <tr>\n",
       "      <th>4453</th>\n",
       "      <td>4453</td>\n",
       "      <td>0</td>\n",
       "      <td>-0.045503</td>\n",
       "    </tr>\n",
       "    <tr>\n",
       "      <th>3821</th>\n",
       "      <td>3821</td>\n",
       "      <td>0</td>\n",
       "      <td>-0.045503</td>\n",
       "    </tr>\n",
       "    <tr>\n",
       "      <th>3430</th>\n",
       "      <td>3430</td>\n",
       "      <td>0</td>\n",
       "      <td>-0.045503</td>\n",
       "    </tr>\n",
       "    <tr>\n",
       "      <th>3822</th>\n",
       "      <td>3822</td>\n",
       "      <td>0</td>\n",
       "      <td>-0.045503</td>\n",
       "    </tr>\n",
       "    <tr>\n",
       "      <th>2643</th>\n",
       "      <td>2643</td>\n",
       "      <td>0</td>\n",
       "      <td>-0.079946</td>\n",
       "    </tr>\n",
       "  </tbody>\n",
       "</table>\n",
       "<p>5605 rows × 3 columns</p>\n",
       "</div>"
      ],
      "text/plain": [
       "      index  Cluster  Silhouette\n",
       "2802   2802       12    0.970252\n",
       "5433   5433       12    0.970252\n",
       "157     157       12    0.970252\n",
       "299     299       12    0.970252\n",
       "5031   5031       12    0.970252\n",
       "...     ...      ...         ...\n",
       "4453   4453        0   -0.045503\n",
       "3821   3821        0   -0.045503\n",
       "3430   3430        0   -0.045503\n",
       "3822   3822        0   -0.045503\n",
       "2643   2643        0   -0.079946\n",
       "\n",
       "[5605 rows x 3 columns]"
      ]
     },
     "execution_count": 29,
     "metadata": {},
     "output_type": "execute_result"
    }
   ],
   "source": [
    "sample_scores_df"
   ]
  },
  {
   "cell_type": "code",
   "execution_count": 31,
   "id": "92b7c085-79cf-4d67-9cfc-c21116ae23f8",
   "metadata": {},
   "outputs": [],
   "source": [
    "kmeans_pca_scale = KMeans(n_clusters=13, n_init=100, max_iter=400, init='k-means++', random_state=42).fit(data_pca)"
   ]
  },
  {
   "cell_type": "code",
   "execution_count": 36,
   "id": "53a7e110-7b91-4806-8078-d07b05a24b27",
   "metadata": {},
   "outputs": [
    {
     "data": {
      "text/html": [
       "<div>\n",
       "<style scoped>\n",
       "    .dataframe tbody tr th:only-of-type {\n",
       "        vertical-align: middle;\n",
       "    }\n",
       "\n",
       "    .dataframe tbody tr th {\n",
       "        vertical-align: top;\n",
       "    }\n",
       "\n",
       "    .dataframe thead th {\n",
       "        text-align: right;\n",
       "    }\n",
       "</style>\n",
       "<table border=\"1\" class=\"dataframe\">\n",
       "  <thead>\n",
       "    <tr style=\"text-align: right;\">\n",
       "      <th></th>\n",
       "      <th>cluster</th>\n",
       "      <th>title</th>\n",
       "    </tr>\n",
       "  </thead>\n",
       "  <tbody>\n",
       "    <tr>\n",
       "      <th>0</th>\n",
       "      <td>8</td>\n",
       "      <td>jproperties library installation issue</td>\n",
       "    </tr>\n",
       "    <tr>\n",
       "      <th>1</th>\n",
       "      <td>8</td>\n",
       "      <td>Union with Null</td>\n",
       "    </tr>\n",
       "    <tr>\n",
       "      <th>2</th>\n",
       "      <td>8</td>\n",
       "      <td>Spark ReadStream fails to infer schema</td>\n",
       "    </tr>\n",
       "    <tr>\n",
       "      <th>3</th>\n",
       "      <td>8</td>\n",
       "      <td>Unable to execute Notebook commands</td>\n",
       "    </tr>\n",
       "    <tr>\n",
       "      <th>4</th>\n",
       "      <td>8</td>\n",
       "      <td>ARR Customer CVS: Issue - Unable to grant read...</td>\n",
       "    </tr>\n",
       "    <tr>\n",
       "      <th>5</th>\n",
       "      <td>3</td>\n",
       "      <td>Create Delta Table Statements Fail Intermittently</td>\n",
       "    </tr>\n",
       "    <tr>\n",
       "      <th>6</th>\n",
       "      <td>1</td>\n",
       "      <td>Databricks Cluster creation time increased pos...</td>\n",
       "    </tr>\n",
       "    <tr>\n",
       "      <th>7</th>\n",
       "      <td>3</td>\n",
       "      <td>Disable delta feature</td>\n",
       "    </tr>\n",
       "    <tr>\n",
       "      <th>8</th>\n",
       "      <td>5</td>\n",
       "      <td>Commands getting cancelled, spark mssqlconnect...</td>\n",
       "    </tr>\n",
       "    <tr>\n",
       "      <th>9</th>\n",
       "      <td>8</td>\n",
       "      <td>How to export Hive metastore</td>\n",
       "    </tr>\n",
       "  </tbody>\n",
       "</table>\n",
       "</div>"
      ],
      "text/plain": [
       "   cluster                                              title\n",
       "0        8            jproperties library installation issue \n",
       "1        8                                    Union with Null\n",
       "2        8             Spark ReadStream fails to infer schema\n",
       "3        8                Unable to execute Notebook commands\n",
       "4        8  ARR Customer CVS: Issue - Unable to grant read...\n",
       "5        3  Create Delta Table Statements Fail Intermittently\n",
       "6        1  Databricks Cluster creation time increased pos...\n",
       "7        3                              Disable delta feature\n",
       "8        5  Commands getting cancelled, spark mssqlconnect...\n",
       "9        8                      How to export Hive metastore "
      ]
     },
     "execution_count": 36,
     "metadata": {},
     "output_type": "execute_result"
    }
   ],
   "source": [
    "# assign predicted clusters\n",
    "labels = kmeans_pca_scale.labels_\n",
    "#print(len(labels)) \n",
    "# create a dataframe that contains \n",
    "# clusters matched to pages and their queries \n",
    "mapping = list(zip(labels, df.title))\n",
    "clusters = pd.DataFrame(mapping, columns=['cluster','title'])\n",
    "clusters.head()\n",
    "clusters.head(10)"
   ]
  },
  {
   "cell_type": "code",
   "execution_count": 39,
   "id": "1ef5f6de-0dae-410b-b62f-96c709d150cc",
   "metadata": {},
   "outputs": [
    {
     "data": {
      "text/plain": [
       "13"
      ]
     },
     "execution_count": 39,
     "metadata": {},
     "output_type": "execute_result"
    }
   ],
   "source": [
    "clusters.cluster.nunique()"
   ]
  },
  {
   "cell_type": "code",
   "execution_count": null,
   "id": "ab49fb3f-fd86-4486-a61f-c008aff455d0",
   "metadata": {},
   "outputs": [],
   "source": []
  }
 ],
 "metadata": {
  "kernelspec": {
   "display_name": "Python 3 (ipykernel)",
   "language": "python",
   "name": "python3"
  },
  "language_info": {
   "codemirror_mode": {
    "name": "ipython",
    "version": 3
   },
   "file_extension": ".py",
   "mimetype": "text/x-python",
   "name": "python",
   "nbconvert_exporter": "python",
   "pygments_lexer": "ipython3",
   "version": "3.9.12"
  }
 },
 "nbformat": 4,
 "nbformat_minor": 5
}
